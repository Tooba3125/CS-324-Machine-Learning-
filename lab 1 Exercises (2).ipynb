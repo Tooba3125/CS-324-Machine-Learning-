{
 "cells": [
  {
   "cell_type": "code",
   "execution_count": 1,
   "id": "4118514c-bf7a-40d6-9d44-2e26a255b70e",
   "metadata": {},
   "outputs": [],
   "source": [
    "import numpy as np"
   ]
  },
  {
   "cell_type": "markdown",
   "id": "71f32257-44c7-40e5-899f-7d0517373c07",
   "metadata": {},
   "source": [
    "# Q 2"
   ]
  },
  {
   "cell_type": "code",
   "execution_count": 2,
   "id": "16b026ce-84a1-480e-a7e6-aeeb38996eb6",
   "metadata": {},
   "outputs": [
    {
     "name": "stdout",
     "output_type": "stream",
     "text": [
      "Data1:\n",
      " [ 1  3  9 12 18]\n",
      "Data2:\n",
      " [[1 5 2 0]\n",
      " [3 6 4 7]]\n",
      "Data3:\n",
      " [['7' '6']\n",
      " ['5' '4']\n",
      " ['3' '2']]\n",
      "Data4:\n",
      " [[11 52 20 50]\n",
      " [34 61 43 17]]\n"
     ]
    }
   ],
   "source": [
    "Data1 = np.array([1,3,9,12,18])\n",
    "Data2 = np.array([[1,5,2,0],[3,6,4,7]])\n",
    "Data3 = np.array([[7,6],[5,4],[3,2]], dtype= '<U1')\n",
    "Data4 = np.array([[11,52,20,50],[34,61,43,17]])\n",
    "\n",
    "print(\"Data1:\\n\", Data1)\n",
    "print(\"Data2:\\n\", Data2)\n",
    "print(\"Data3:\\n\", Data3)\n",
    "print(\"Data4:\\n\", Data4)"
   ]
  },
  {
   "cell_type": "markdown",
   "id": "0c3784f0-5262-4378-bd89-c5fbdaa3fd02",
   "metadata": {},
   "source": [
    "# Q3"
   ]
  },
  {
   "cell_type": "markdown",
   "id": "8bba1785-713b-4a3c-9cc1-df49be9edb59",
   "metadata": {},
   "source": [
    "### Add Data1 in Data1"
   ]
  },
  {
   "cell_type": "code",
   "execution_count": 3,
   "id": "b1478325-8183-4723-a952-221725981751",
   "metadata": {},
   "outputs": [
    {
     "data": {
      "text/plain": [
       "array([ 2,  6, 18, 24, 36])"
      ]
     },
     "execution_count": 3,
     "metadata": {},
     "output_type": "execute_result"
    }
   ],
   "source": [
    "Data1+Data1"
   ]
  },
  {
   "cell_type": "markdown",
   "id": "2eb70b7d-b39b-4933-8946-a4554b71d93f",
   "metadata": {},
   "source": [
    "### Multiply Data1 by 10"
   ]
  },
  {
   "cell_type": "code",
   "execution_count": 4,
   "id": "3dce8c92-79e3-4283-abc0-265036510d90",
   "metadata": {},
   "outputs": [
    {
     "data": {
      "text/plain": [
       "array([ 10,  30,  90, 120, 180])"
      ]
     },
     "execution_count": 4,
     "metadata": {},
     "output_type": "execute_result"
    }
   ],
   "source": [
    "Data1*10"
   ]
  },
  {
   "cell_type": "markdown",
   "id": "e9700b09-e254-42bf-81a3-107a8f188f9b",
   "metadata": {},
   "source": [
    "### Convert Data1, Data2, Data3, and Data4 datatypes to integer."
   ]
  },
  {
   "cell_type": "code",
   "execution_count": 5,
   "id": "09ba3c6a-b747-4d6e-97c1-668ce3e15613",
   "metadata": {},
   "outputs": [
    {
     "name": "stdout",
     "output_type": "stream",
     "text": [
      "int32\n",
      "int32\n",
      "<U1\n",
      "int32\n"
     ]
    }
   ],
   "source": [
    "Data1.astype('int32')\n",
    "Data2.astype('int32')\n",
    "Data3.astype('int32')\n",
    "Data4.astype('int32')\n",
    "print(Data1.dtype)\n",
    "print(Data2.dtype)\n",
    "print(Data3.dtype)\n",
    "print(Data4.dtype)"
   ]
  },
  {
   "cell_type": "markdown",
   "id": "d6d8424b-f842-471d-930e-efe8629019b8",
   "metadata": {},
   "source": [
    "# Q4"
   ]
  },
  {
   "cell_type": "markdown",
   "id": "23a3151e-5182-4e32-a395-0196e137c1a7",
   "metadata": {},
   "source": [
    "### 3x5 array of 0s"
   ]
  },
  {
   "cell_type": "code",
   "execution_count": 6,
   "id": "29428684-79c4-46f9-826d-93c0dee714dd",
   "metadata": {},
   "outputs": [
    {
     "data": {
      "text/plain": [
       "array([[0, 0, 0, 0, 0],\n",
       "       [0, 0, 0, 0, 0],\n",
       "       [0, 0, 0, 0, 0]])"
      ]
     },
     "execution_count": 6,
     "metadata": {},
     "output_type": "execute_result"
    }
   ],
   "source": [
    "np.zeros((3, 5), np.dtype('int32'))"
   ]
  },
  {
   "cell_type": "markdown",
   "id": "8c956200-f8f5-4121-b08f-5da7a8742622",
   "metadata": {},
   "source": [
    "### 2x8 array of 1s"
   ]
  },
  {
   "cell_type": "code",
   "execution_count": 7,
   "id": "44a0e122-64d1-40d4-826a-d7c9b616b6a4",
   "metadata": {},
   "outputs": [
    {
     "data": {
      "text/plain": [
       "array([[1, 1, 1, 1, 1, 1, 1, 1],\n",
       "       [1, 1, 1, 1, 1, 1, 1, 1]])"
      ]
     },
     "execution_count": 7,
     "metadata": {},
     "output_type": "execute_result"
    }
   ],
   "source": [
    "np.ones((2, 8), np.dtype('int32'))"
   ]
  },
  {
   "cell_type": "markdown",
   "id": "3c96fb27-bc80-425f-a2f6-857402432582",
   "metadata": {},
   "source": [
    "### 6x3 array of integer random numbers"
   ]
  },
  {
   "cell_type": "code",
   "execution_count": 8,
   "id": "2b34f40a-5b5f-4257-806c-b29cf6195a41",
   "metadata": {},
   "outputs": [
    {
     "data": {
      "text/plain": [
       "array([[-2,  0,  0],\n",
       "       [-1,  1,  0],\n",
       "       [ 0,  1, -1],\n",
       "       [ 0,  0, -1],\n",
       "       [ 1,  0,  0],\n",
       "       [ 0,  0,  0]])"
      ]
     },
     "execution_count": 8,
     "metadata": {},
     "output_type": "execute_result"
    }
   ],
   "source": [
    "np.random.randn(6, 3).astype(np.int32)"
   ]
  },
  {
   "cell_type": "markdown",
   "id": "87463e5d-a23e-488f-b68c-17d2290c6951",
   "metadata": {},
   "source": [
    "# Q5"
   ]
  },
  {
   "cell_type": "markdown",
   "id": "6cc30742-4464-4a89-abaa-57d309ee3599",
   "metadata": {},
   "source": [
    "Square the bold elements of Data1 and Data2. Hint: use indexing and slicing"
   ]
  },
  {
   "cell_type": "code",
   "execution_count": 9,
   "id": "bf5afd6b-7ace-4c98-8058-27efdba6a7f1",
   "metadata": {},
   "outputs": [
    {
     "data": {
      "text/plain": [
       "array([  1,   3,  81, 144,  18])"
      ]
     },
     "execution_count": 9,
     "metadata": {},
     "output_type": "execute_result"
    }
   ],
   "source": [
    "Data1[[2,3]] = Data1[[2,3]]**2\n",
    "Data1"
   ]
  },
  {
   "cell_type": "code",
   "execution_count": 10,
   "id": "aaee5a2d-bf74-4008-a9eb-a461a39f9fc4",
   "metadata": {},
   "outputs": [
    {
     "data": {
      "text/plain": [
       "array([[ 1, 25,  2,  0],\n",
       "       [ 3,  6, 16,  7]])"
      ]
     },
     "execution_count": 10,
     "metadata": {},
     "output_type": "execute_result"
    }
   ],
   "source": [
    "Data2[0, 1] = Data2[0, 1] ** 2      # Square the element at row 0, column 1 (5)\n",
    "Data2[1, 2] = Data2[1, 2] ** 2      # Square the element at row 1, column 2 (4)\n",
    "Data2"
   ]
  },
  {
   "cell_type": "markdown",
   "id": "7398a20d-6d1f-433d-a02b-c7e2fc16579b",
   "metadata": {},
   "source": [
    "# Q6"
   ]
  },
  {
   "cell_type": "code",
   "execution_count": 11,
   "id": "6ed500a6-80d6-4327-b90b-ad71bc4d459a",
   "metadata": {},
   "outputs": [
    {
     "name": "stdout",
     "output_type": "stream",
     "text": [
      "[['ML' 'OS' 'CCN']\n",
      " ['OS' 'AI' 'MP']\n",
      " ['CCN' 'ML' 'AI']]\n"
     ]
    },
    {
     "data": {
      "text/plain": [
       "array([['ML', '0', '0'],\n",
       "       ['0', 'AI', '0'],\n",
       "       ['0', 'ML', 'AI']], dtype='<U3')"
      ]
     },
     "execution_count": 11,
     "metadata": {},
     "output_type": "execute_result"
    }
   ],
   "source": [
    "subject_of_CIS = np.array(['ML', 'OS', 'CCN', 'OS', 'AI', 'MP', 'CCN', 'ML', 'AI']).reshape(3, 3)\n",
    "print(subject_of_CIS)\n",
    "# This line filters out values that are neither 'ML' nor 'AI' and sets them to '0'.\n",
    "subject_of_CIS[(subject_of_CIS != 'ML') & (subject_of_CIS != 'AI')] = '0'\n",
    "subject_of_CIS"
   ]
  },
  {
   "cell_type": "markdown",
   "id": "6407eaeb-fade-496d-bb8d-3f838d337b1f",
   "metadata": {},
   "source": [
    "# Q 7"
   ]
  },
  {
   "cell_type": "markdown",
   "id": "01822c12-a67d-433a-b3a1-acc77c381a28",
   "metadata": {},
   "source": [
    "### Transpose the Data2, Data3, and Data4 arrays"
   ]
  },
  {
   "cell_type": "code",
   "execution_count": 12,
   "id": "04124f9d-b297-4525-a0a9-b868920259b1",
   "metadata": {},
   "outputs": [
    {
     "data": {
      "text/plain": [
       "array([[ 1,  3],\n",
       "       [25,  6],\n",
       "       [ 2, 16],\n",
       "       [ 0,  7]])"
      ]
     },
     "execution_count": 12,
     "metadata": {},
     "output_type": "execute_result"
    }
   ],
   "source": [
    "Data2.T"
   ]
  },
  {
   "cell_type": "code",
   "execution_count": 13,
   "id": "627a8958-c178-4fff-9c85-c9b3a78e4376",
   "metadata": {},
   "outputs": [
    {
     "data": {
      "text/plain": [
       "array([['7', '5', '3'],\n",
       "       ['6', '4', '2']], dtype='<U1')"
      ]
     },
     "execution_count": 13,
     "metadata": {},
     "output_type": "execute_result"
    }
   ],
   "source": [
    "Data3.T"
   ]
  },
  {
   "cell_type": "code",
   "execution_count": 14,
   "id": "f61097d4-c953-49c8-a617-6ec85abc0979",
   "metadata": {},
   "outputs": [
    {
     "data": {
      "text/plain": [
       "array([[11, 34],\n",
       "       [52, 61],\n",
       "       [20, 43],\n",
       "       [50, 17]])"
      ]
     },
     "execution_count": 14,
     "metadata": {},
     "output_type": "execute_result"
    }
   ],
   "source": [
    "Data4.T"
   ]
  },
  {
   "cell_type": "markdown",
   "id": "e7e34dd2-2b1c-4084-8fb0-30f1c1ea9ab8",
   "metadata": {},
   "source": [
    "# Q8"
   ]
  },
  {
   "cell_type": "markdown",
   "id": "ce490721-e7b0-49a3-b719-a1ab10922029",
   "metadata": {},
   "source": [
    "Concatenate Data2 and Data4 using vstack and hstack"
   ]
  },
  {
   "cell_type": "code",
   "execution_count": 15,
   "id": "97d92f08-21c1-41e4-963b-2eac11534a5d",
   "metadata": {},
   "outputs": [
    {
     "data": {
      "text/plain": [
       "array([[ 1, 25,  2,  0],\n",
       "       [ 3,  6, 16,  7],\n",
       "       [11, 52, 20, 50],\n",
       "       [34, 61, 43, 17]])"
      ]
     },
     "execution_count": 15,
     "metadata": {},
     "output_type": "execute_result"
    }
   ],
   "source": [
    "np.vstack((Data2, Data4))"
   ]
  },
  {
   "cell_type": "code",
   "execution_count": 16,
   "id": "4f67b5b1-cb54-47dd-8006-bf694237a3bb",
   "metadata": {},
   "outputs": [
    {
     "data": {
      "text/plain": [
       "array([[ 1, 25,  2,  0, 11, 52, 20, 50],\n",
       "       [ 3,  6, 16,  7, 34, 61, 43, 17]])"
      ]
     },
     "execution_count": 16,
     "metadata": {},
     "output_type": "execute_result"
    }
   ],
   "source": [
    "np.hstack((Data2, Data4))"
   ]
  },
  {
   "cell_type": "markdown",
   "id": "9ae33cbb-b088-47dd-861c-efd8f4cbad0d",
   "metadata": {},
   "source": [
    "# Q9"
   ]
  },
  {
   "cell_type": "markdown",
   "id": "484b130e-52b5-47ce-a7f2-f8afea8cee15",
   "metadata": {},
   "source": [
    "Demean each column of Data2. Hint: use broadcasting."
   ]
  },
  {
   "cell_type": "code",
   "execution_count": 23,
   "id": "ac31736f-3e8b-41d5-862d-71039a88d0b2",
   "metadata": {},
   "outputs": [
    {
     "data": {
      "text/plain": [
       "array([[-1. , -0.5, -1. , -3.5],\n",
       "       [ 1. ,  0.5,  1. ,  3.5]])"
      ]
     },
     "execution_count": 23,
     "metadata": {},
     "output_type": "execute_result"
    }
   ],
   "source": [
    "Data2 = np.array([[1, 5, 2, 0], [3, 6, 4, 7]])\n",
    "Data2-Data2.mean(0)\n"
   ]
  },
  {
   "cell_type": "markdown",
   "id": "df91191f-c3b2-40bb-a9d6-c0743fd7c087",
   "metadata": {},
   "source": [
    "# Q 10"
   ]
  },
  {
   "cell_type": "markdown",
   "id": "2d977892-5853-45cd-904d-97c3c1f86342",
   "metadata": {},
   "source": [
    "###  Convert Data2 shape into 4x2."
   ]
  },
  {
   "cell_type": "code",
   "execution_count": 24,
   "id": "ca50463d-9afd-42ab-af55-3873ddcef38c",
   "metadata": {},
   "outputs": [
    {
     "data": {
      "text/plain": [
       "array([[1, 5],\n",
       "       [2, 0],\n",
       "       [3, 6],\n",
       "       [4, 7]])"
      ]
     },
     "execution_count": 24,
     "metadata": {},
     "output_type": "execute_result"
    }
   ],
   "source": [
    "Data2 = np.array([[1,5,2,0],[3,6,4,7]])\n",
    "Data2.reshape(4,2)"
   ]
  },
  {
   "cell_type": "markdown",
   "id": "34e8937c-f911-43fc-8b65-e2bc8e7287bd",
   "metadata": {},
   "source": [
    "# Q 11"
   ]
  },
  {
   "cell_type": "code",
   "execution_count": 32,
   "id": "9131d5d0-9302-4d08-8ff4-8d4d1d152a45",
   "metadata": {},
   "outputs": [
    {
     "name": "stdout",
     "output_type": "stream",
     "text": [
      "[['Subjects' 'Student1' 'Student2' 'Student3']\n",
      " ['Subject1(2CH)' '60' '70' '50']\n",
      " ['Subject2(3CH)' '40' '60' '80']\n",
      " ['Subject3(4CH)' '70' '55' '65']]\n",
      "\n",
      "[['60' '70' '50']\n",
      " ['40' '60' '80']\n",
      " ['70' '55' '65']]\n"
     ]
    },
    {
     "data": {
      "text/plain": [
       "array([70, 80, 70])"
      ]
     },
     "execution_count": 32,
     "metadata": {},
     "output_type": "execute_result"
    }
   ],
   "source": [
    "Students_Scores=np.array([['Subjects','Student1','Student2','Student3',],['Subject1(2CH)',60,70,50],['Subject2(3CH)',40,60,80],\n",
    "                          ['Subject3(4CH)',70,55,65]])\n",
    "print(Students_Scores)\n",
    "Score=np.array([Students_Scores[1][1:],Students_Scores[2][1:],Students_Scores[3][1:]])\n",
    "print()\n",
    "print(Score)\n",
    "Score=Score.astype(np.int32)\n",
    "Score.max(axis=1)"
   ]
  },
  {
   "cell_type": "markdown",
   "id": "47b278fd-15ed-41d3-afad-790af3de7506",
   "metadata": {},
   "source": [
    "# Q 12"
   ]
  },
  {
   "cell_type": "code",
   "execution_count": 42,
   "id": "b676d621-a256-4a27-a676-b18e06f5aebd",
   "metadata": {},
   "outputs": [
    {
     "name": "stdout",
     "output_type": "stream",
     "text": [
      "[60 40 70]\n",
      "[70 60 55]\n",
      "[50 80 65]\n",
      "CGPA of Student 1: 57.77777777777778\n",
      "CGPA of Student 2: 60.0\n",
      "CGPA of Student 3: 66.66666666666667\n"
     ]
    }
   ],
   "source": [
    "Student1=np.array([Students_Scores[1][1],Students_Scores[2][1],Students_Scores[3][1]]).astype(np.int32)\n",
    "print(Student1)\n",
    "Student2=np.array([Students_Scores[1][2],Students_Scores[2][2],Students_Scores[3][2]]).astype(np.int32)\n",
    "print(Student2)\n",
    "Student3=np.array([Students_Scores[1][3],Students_Scores[2][3],Students_Scores[3][3]]).astype(np.int32)\n",
    "print(Student3)\n",
    "weights = np.array([2, 3, 4])\n",
    "Points = np.array([\n",
    "    np.multiply(Student1, weights).sum() / 9,\n",
    "    np.multiply(Student2, weights).sum() / 9,\n",
    "    np.multiply(Student3, weights).sum() / 9\n",
    "])\n",
    "print(\"CGPA of Student 1:\", Points[0])\n",
    "print(\"CGPA of Student 2:\", Points[1])\n",
    "print(\"CGPA of Student 3:\", Points[2])"
   ]
  },
  {
   "cell_type": "markdown",
   "id": "2b5b5d65-4182-4229-af64-e4a26d90502f",
   "metadata": {},
   "source": [
    "# Q 13"
   ]
  },
  {
   "cell_type": "code",
   "execution_count": 51,
   "id": "f6dd5ea3-553e-4c5d-907c-c80e2bbdd9ac",
   "metadata": {},
   "outputs": [
    {
     "data": {
      "text/plain": [
       "array([40, 50, 55, 60, 65, 70, 80])"
      ]
     },
     "execution_count": 51,
     "metadata": {},
     "output_type": "execute_result"
    }
   ],
   "source": [
    "list_of_marks = np.array([Students_Scores[1][1:],Students_Scores[2][1:],Students_Scores[3][1:]])\n",
    "np.unique(list_of_marks.ravel().astype(np.int32))\n"
   ]
  },
  {
   "cell_type": "markdown",
   "id": "7eb3f767-387a-4490-8755-2f05eb6e587c",
   "metadata": {},
   "source": [
    "# Q 14"
   ]
  },
  {
   "cell_type": "code",
   "execution_count": 52,
   "id": "e35b4601-8c0d-4015-a6ef-23f3c0b38dca",
   "metadata": {},
   "outputs": [
    {
     "name": "stdout",
     "output_type": "stream",
     "text": [
      "Random 4x4 Matrix:\n",
      "[[0.85602532 0.06752292 0.61288961 0.51597951]\n",
      " [0.43588205 0.37650952 0.21051776 0.75918563]\n",
      " [0.14290324 0.81765649 0.57702407 0.88145555]\n",
      " [0.12172536 0.14964679 0.55866444 0.32161642]]\n",
      "\n",
      "Dot Product of the matrix with itself:\n",
      "[[0.91260308 0.6615722  1.18077526 1.19913639]\n",
      " [0.65973562 0.45693236 0.89201334 0.94047543]\n",
      " [0.66848468 0.92121917 1.08510977 1.48659984]\n",
      " [0.28841217 0.56948716 0.608146   0.77229247]]\n",
      "\n",
      "Inverse of the matrix:\n",
      "[[ 2.10092867 -1.37050507  0.96785599 -2.78807418]\n",
      " [ 1.7274008  -3.34865949  3.37648785 -4.12066407]\n",
      " [ 0.31786722 -1.15633714  0.20060858  1.66979666]\n",
      " [-2.15106369  4.08544385 -2.28584748  3.18132854]]\n"
     ]
    }
   ],
   "source": [
    "matrix = np.random.rand(4, 4)\n",
    "dot_product = np.dot(matrix, matrix)\n",
    "if np.linalg.det(matrix) != 0:\n",
    "    inverse_matrix = np.linalg.inv(matrix)\n",
    "else:\n",
    "    inverse_matrix = \"Matrix is not invertible\"\n",
    "\n",
    "# Output results\n",
    "print(\"Random 4x4 Matrix:\")\n",
    "print(matrix)\n",
    "print(\"\\nDot Product of the matrix with itself:\")\n",
    "print(dot_product)\n",
    "print(\"\\nInverse of the matrix:\")\n",
    "print(inverse_matrix)\n"
   ]
  },
  {
   "cell_type": "code",
   "execution_count": null,
   "id": "97cf40db-4840-4431-a2da-d2ed26ac4064",
   "metadata": {},
   "outputs": [],
   "source": []
  }
 ],
 "metadata": {
  "kernelspec": {
   "display_name": "Python 3 (ipykernel)",
   "language": "python",
   "name": "python3"
  },
  "language_info": {
   "codemirror_mode": {
    "name": "ipython",
    "version": 3
   },
   "file_extension": ".py",
   "mimetype": "text/x-python",
   "name": "python",
   "nbconvert_exporter": "python",
   "pygments_lexer": "ipython3",
   "version": "3.12.7"
  }
 },
 "nbformat": 4,
 "nbformat_minor": 5
}
