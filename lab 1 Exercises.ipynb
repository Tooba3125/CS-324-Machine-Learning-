{
 "cells": [
  {
   "cell_type": "code",
   "execution_count": 1,
   "id": "4118514c-bf7a-40d6-9d44-2e26a255b70e",
   "metadata": {},
   "outputs": [],
   "source": [
    "import numpy as np"
   ]
  },
  {
   "cell_type": "markdown",
   "id": "71f32257-44c7-40e5-899f-7d0517373c07",
   "metadata": {},
   "source": [
    "# Q 1"
   ]
  },
  {
   "cell_type": "code",
   "execution_count": 4,
   "id": "16b026ce-84a1-480e-a7e6-aeeb38996eb6",
   "metadata": {},
   "outputs": [
    {
     "data": {
      "text/plain": [
       "array([ 1,  3,  9, 12, 18])"
      ]
     },
     "execution_count": 4,
     "metadata": {},
     "output_type": "execute_result"
    }
   ],
   "source": [
    "Data1 = np.array([1,3,9,12,18])\n",
    "Data1"
   ]
  },
  {
   "cell_type": "code",
   "execution_count": 6,
   "id": "22940bd2-0346-46f1-a1ad-ba4451043b24",
   "metadata": {},
   "outputs": [
    {
     "data": {
      "text/plain": [
       "array([[1, 5, 2, 0],\n",
       "       [3, 6, 4, 7]])"
      ]
     },
     "execution_count": 6,
     "metadata": {},
     "output_type": "execute_result"
    }
   ],
   "source": [
    "Data2 = np.array([[1,5,2,0],[3,6,4,7]])\n",
    "Data2"
   ]
  },
  {
   "cell_type": "code",
   "execution_count": 9,
   "id": "6aa2200f-539d-450e-8d91-321a6f9c30b0",
   "metadata": {},
   "outputs": [
    {
     "data": {
      "text/plain": [
       "array([['1', '5', '2', '0'],\n",
       "       ['3', '6', '4', '7']], dtype='<U1')"
      ]
     },
     "execution_count": 9,
     "metadata": {},
     "output_type": "execute_result"
    }
   ],
   "source": [
    "Data3 = np.array([[1,5,2,0],[3,6,4,7]], dtype= '<U1')\n",
    "Data3"
   ]
  },
  {
   "cell_type": "code",
   "execution_count": 11,
   "id": "eae9bfa6-b4d3-4e02-95ca-5360f6eefdf9",
   "metadata": {},
   "outputs": [
    {
     "data": {
      "text/plain": [
       "array([[11, 52, 20, 50],\n",
       "       [34, 61, 43, 17]])"
      ]
     },
     "execution_count": 11,
     "metadata": {},
     "output_type": "execute_result"
    }
   ],
   "source": [
    "Data4 = np.array([[11,52,20,50],[34,61,43,17]])\n",
    "Data4"
   ]
  },
  {
   "cell_type": "markdown",
   "id": "0c3784f0-5262-4378-bd89-c5fbdaa3fd02",
   "metadata": {},
   "source": [
    "# Q2"
   ]
  },
  {
   "cell_type": "code",
   "execution_count": 12,
   "id": "b1478325-8183-4723-a952-221725981751",
   "metadata": {},
   "outputs": [
    {
     "data": {
      "text/plain": [
       "array([ 2,  6, 18, 24, 36])"
      ]
     },
     "execution_count": 12,
     "metadata": {},
     "output_type": "execute_result"
    }
   ],
   "source": [
    "Data1+Data1"
   ]
  },
  {
   "cell_type": "code",
   "execution_count": null,
   "id": "3dce8c92-79e3-4283-abc0-265036510d90",
   "metadata": {},
   "outputs": [],
   "source": []
  }
 ],
 "metadata": {
  "kernelspec": {
   "display_name": "Python 3 (ipykernel)",
   "language": "python",
   "name": "python3"
  },
  "language_info": {
   "codemirror_mode": {
    "name": "ipython",
    "version": 3
   },
   "file_extension": ".py",
   "mimetype": "text/x-python",
   "name": "python",
   "nbconvert_exporter": "python",
   "pygments_lexer": "ipython3",
   "version": "3.12.7"
  }
 },
 "nbformat": 4,
 "nbformat_minor": 5
}
