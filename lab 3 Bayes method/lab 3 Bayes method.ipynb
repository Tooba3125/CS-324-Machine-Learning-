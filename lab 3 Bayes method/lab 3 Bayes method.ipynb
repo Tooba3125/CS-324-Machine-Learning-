{
 "cells": [
  {
   "cell_type": "code",
   "execution_count": 1,
   "id": "2f97b17a-3637-4742-bc96-9983290bd114",
   "metadata": {},
   "outputs": [],
   "source": [
    "import pandas as pd"
   ]
  },
  {
   "cell_type": "code",
   "execution_count": 2,
   "id": "339606ac-ed0d-4d11-8b1f-f2db5a4a1d56",
   "metadata": {},
   "outputs": [
    {
     "data": {
      "text/html": [
       "<div>\n",
       "<style scoped>\n",
       "    .dataframe tbody tr th:only-of-type {\n",
       "        vertical-align: middle;\n",
       "    }\n",
       "\n",
       "    .dataframe tbody tr th {\n",
       "        vertical-align: top;\n",
       "    }\n",
       "\n",
       "    .dataframe thead th {\n",
       "        text-align: right;\n",
       "    }\n",
       "</style>\n",
       "<table border=\"1\" class=\"dataframe\">\n",
       "  <thead>\n",
       "    <tr style=\"text-align: right;\">\n",
       "      <th></th>\n",
       "      <th>Age</th>\n",
       "      <th>Gender</th>\n",
       "      <th>ChestPainType</th>\n",
       "      <th>RestingBP</th>\n",
       "      <th>Cholesterol</th>\n",
       "      <th>FastingBS</th>\n",
       "      <th>RestingECG</th>\n",
       "      <th>MaxHR</th>\n",
       "      <th>ExerciseAngina</th>\n",
       "      <th>Oldpeak</th>\n",
       "      <th>ST_Slope</th>\n",
       "      <th>HeartDisease</th>\n",
       "    </tr>\n",
       "  </thead>\n",
       "  <tbody>\n",
       "    <tr>\n",
       "      <th>0</th>\n",
       "      <td>40</td>\n",
       "      <td>M</td>\n",
       "      <td>ATA</td>\n",
       "      <td>140</td>\n",
       "      <td>289</td>\n",
       "      <td>0</td>\n",
       "      <td>Normal</td>\n",
       "      <td>172</td>\n",
       "      <td>N</td>\n",
       "      <td>0.0</td>\n",
       "      <td>Up</td>\n",
       "      <td>0</td>\n",
       "    </tr>\n",
       "    <tr>\n",
       "      <th>1</th>\n",
       "      <td>49</td>\n",
       "      <td>F</td>\n",
       "      <td>NAP</td>\n",
       "      <td>160</td>\n",
       "      <td>180</td>\n",
       "      <td>0</td>\n",
       "      <td>Normal</td>\n",
       "      <td>156</td>\n",
       "      <td>N</td>\n",
       "      <td>1.0</td>\n",
       "      <td>Flat</td>\n",
       "      <td>1</td>\n",
       "    </tr>\n",
       "    <tr>\n",
       "      <th>2</th>\n",
       "      <td>37</td>\n",
       "      <td>M</td>\n",
       "      <td>ATA</td>\n",
       "      <td>130</td>\n",
       "      <td>283</td>\n",
       "      <td>0</td>\n",
       "      <td>ST</td>\n",
       "      <td>98</td>\n",
       "      <td>N</td>\n",
       "      <td>0.0</td>\n",
       "      <td>Up</td>\n",
       "      <td>0</td>\n",
       "    </tr>\n",
       "    <tr>\n",
       "      <th>3</th>\n",
       "      <td>48</td>\n",
       "      <td>F</td>\n",
       "      <td>ASY</td>\n",
       "      <td>138</td>\n",
       "      <td>214</td>\n",
       "      <td>0</td>\n",
       "      <td>Normal</td>\n",
       "      <td>108</td>\n",
       "      <td>Y</td>\n",
       "      <td>1.5</td>\n",
       "      <td>Flat</td>\n",
       "      <td>1</td>\n",
       "    </tr>\n",
       "    <tr>\n",
       "      <th>4</th>\n",
       "      <td>54</td>\n",
       "      <td>M</td>\n",
       "      <td>NAP</td>\n",
       "      <td>150</td>\n",
       "      <td>195</td>\n",
       "      <td>0</td>\n",
       "      <td>Normal</td>\n",
       "      <td>122</td>\n",
       "      <td>N</td>\n",
       "      <td>0.0</td>\n",
       "      <td>Up</td>\n",
       "      <td>0</td>\n",
       "    </tr>\n",
       "    <tr>\n",
       "      <th>...</th>\n",
       "      <td>...</td>\n",
       "      <td>...</td>\n",
       "      <td>...</td>\n",
       "      <td>...</td>\n",
       "      <td>...</td>\n",
       "      <td>...</td>\n",
       "      <td>...</td>\n",
       "      <td>...</td>\n",
       "      <td>...</td>\n",
       "      <td>...</td>\n",
       "      <td>...</td>\n",
       "      <td>...</td>\n",
       "    </tr>\n",
       "    <tr>\n",
       "      <th>913</th>\n",
       "      <td>45</td>\n",
       "      <td>M</td>\n",
       "      <td>TA</td>\n",
       "      <td>110</td>\n",
       "      <td>264</td>\n",
       "      <td>0</td>\n",
       "      <td>Normal</td>\n",
       "      <td>132</td>\n",
       "      <td>N</td>\n",
       "      <td>1.2</td>\n",
       "      <td>Flat</td>\n",
       "      <td>1</td>\n",
       "    </tr>\n",
       "    <tr>\n",
       "      <th>914</th>\n",
       "      <td>68</td>\n",
       "      <td>M</td>\n",
       "      <td>ASY</td>\n",
       "      <td>144</td>\n",
       "      <td>193</td>\n",
       "      <td>1</td>\n",
       "      <td>Normal</td>\n",
       "      <td>141</td>\n",
       "      <td>N</td>\n",
       "      <td>3.4</td>\n",
       "      <td>Flat</td>\n",
       "      <td>1</td>\n",
       "    </tr>\n",
       "    <tr>\n",
       "      <th>915</th>\n",
       "      <td>57</td>\n",
       "      <td>M</td>\n",
       "      <td>ASY</td>\n",
       "      <td>130</td>\n",
       "      <td>131</td>\n",
       "      <td>0</td>\n",
       "      <td>Normal</td>\n",
       "      <td>115</td>\n",
       "      <td>Y</td>\n",
       "      <td>1.2</td>\n",
       "      <td>Flat</td>\n",
       "      <td>1</td>\n",
       "    </tr>\n",
       "    <tr>\n",
       "      <th>916</th>\n",
       "      <td>57</td>\n",
       "      <td>F</td>\n",
       "      <td>ATA</td>\n",
       "      <td>130</td>\n",
       "      <td>236</td>\n",
       "      <td>0</td>\n",
       "      <td>LVH</td>\n",
       "      <td>174</td>\n",
       "      <td>N</td>\n",
       "      <td>0.0</td>\n",
       "      <td>Flat</td>\n",
       "      <td>1</td>\n",
       "    </tr>\n",
       "    <tr>\n",
       "      <th>917</th>\n",
       "      <td>38</td>\n",
       "      <td>M</td>\n",
       "      <td>NAP</td>\n",
       "      <td>138</td>\n",
       "      <td>175</td>\n",
       "      <td>0</td>\n",
       "      <td>Normal</td>\n",
       "      <td>173</td>\n",
       "      <td>N</td>\n",
       "      <td>0.0</td>\n",
       "      <td>Up</td>\n",
       "      <td>0</td>\n",
       "    </tr>\n",
       "  </tbody>\n",
       "</table>\n",
       "<p>918 rows × 12 columns</p>\n",
       "</div>"
      ],
      "text/plain": [
       "     Age Gender ChestPainType  RestingBP  Cholesterol  FastingBS RestingECG  \\\n",
       "0     40      M           ATA        140          289          0     Normal   \n",
       "1     49      F           NAP        160          180          0     Normal   \n",
       "2     37      M           ATA        130          283          0         ST   \n",
       "3     48      F           ASY        138          214          0     Normal   \n",
       "4     54      M           NAP        150          195          0     Normal   \n",
       "..   ...    ...           ...        ...          ...        ...        ...   \n",
       "913   45      M            TA        110          264          0     Normal   \n",
       "914   68      M           ASY        144          193          1     Normal   \n",
       "915   57      M           ASY        130          131          0     Normal   \n",
       "916   57      F           ATA        130          236          0        LVH   \n",
       "917   38      M           NAP        138          175          0     Normal   \n",
       "\n",
       "     MaxHR ExerciseAngina  Oldpeak ST_Slope  HeartDisease  \n",
       "0      172              N      0.0       Up             0  \n",
       "1      156              N      1.0     Flat             1  \n",
       "2       98              N      0.0       Up             0  \n",
       "3      108              Y      1.5     Flat             1  \n",
       "4      122              N      0.0       Up             0  \n",
       "..     ...            ...      ...      ...           ...  \n",
       "913    132              N      1.2     Flat             1  \n",
       "914    141              N      3.4     Flat             1  \n",
       "915    115              Y      1.2     Flat             1  \n",
       "916    174              N      0.0     Flat             1  \n",
       "917    173              N      0.0       Up             0  \n",
       "\n",
       "[918 rows x 12 columns]"
      ]
     },
     "execution_count": 2,
     "metadata": {},
     "output_type": "execute_result"
    }
   ],
   "source": [
    "data = pd.read_csv(f'{'C:/Users/Tesla Laptops/Downloads'}/D3_Heart_Dataset.csv')\n",
    "data"
   ]
  },
  {
   "cell_type": "code",
   "execution_count": 3,
   "id": "c6368e9c-644e-49e9-966b-1448711b98e6",
   "metadata": {},
   "outputs": [
    {
     "data": {
      "text/plain": [
       "pandas.core.frame.DataFrame"
      ]
     },
     "execution_count": 3,
     "metadata": {},
     "output_type": "execute_result"
    }
   ],
   "source": [
    "type(data)"
   ]
  },
  {
   "cell_type": "code",
   "execution_count": 4,
   "id": "dd7171b4-c8dc-44a3-b417-a66e097262bd",
   "metadata": {},
   "outputs": [
    {
     "name": "stdout",
     "output_type": "stream",
     "text": [
      "<class 'pandas.core.frame.DataFrame'>\n",
      "RangeIndex: 918 entries, 0 to 917\n",
      "Data columns (total 12 columns):\n",
      " #   Column          Non-Null Count  Dtype  \n",
      "---  ------          --------------  -----  \n",
      " 0   Age             918 non-null    int64  \n",
      " 1   Gender          918 non-null    object \n",
      " 2   ChestPainType   918 non-null    object \n",
      " 3   RestingBP       918 non-null    int64  \n",
      " 4   Cholesterol     918 non-null    int64  \n",
      " 5   FastingBS       918 non-null    int64  \n",
      " 6   RestingECG      918 non-null    object \n",
      " 7   MaxHR           918 non-null    int64  \n",
      " 8   ExerciseAngina  918 non-null    object \n",
      " 9   Oldpeak         918 non-null    float64\n",
      " 10  ST_Slope        918 non-null    object \n",
      " 11  HeartDisease    918 non-null    int64  \n",
      "dtypes: float64(1), int64(6), object(5)\n",
      "memory usage: 86.2+ KB\n"
     ]
    }
   ],
   "source": [
    "data.info()"
   ]
  },
  {
   "cell_type": "code",
   "execution_count": 5,
   "id": "e3b9a997-2c23-475e-8cc0-ccf19b2ce27b",
   "metadata": {},
   "outputs": [],
   "source": [
    "X = data.drop(\"HeartDisease\",axis=1)"
   ]
  },
  {
   "cell_type": "code",
   "execution_count": 6,
   "id": "496d9018-94b4-4b03-8b4d-0eed47e0265e",
   "metadata": {},
   "outputs": [],
   "source": [
    "Y = data[\"HeartDisease\"] "
   ]
  },
  {
   "cell_type": "code",
   "execution_count": 7,
   "id": "d060788d-3e66-432b-838e-e1bdc263a79f",
   "metadata": {},
   "outputs": [
    {
     "data": {
      "text/plain": [
       "array(['M', 'F'], dtype=object)"
      ]
     },
     "execution_count": 7,
     "metadata": {},
     "output_type": "execute_result"
    }
   ],
   "source": [
    "X['Gender'].unique()"
   ]
  },
  {
   "cell_type": "code",
   "execution_count": 8,
   "id": "c391dd4a-bd89-4816-8a93-2c77ac6622f4",
   "metadata": {},
   "outputs": [
    {
     "name": "stderr",
     "output_type": "stream",
     "text": [
      "C:\\Users\\Tesla Laptops\\AppData\\Local\\Temp\\ipykernel_16196\\1989171357.py:2: FutureWarning: Downcasting behavior in `replace` is deprecated and will be removed in a future version. To retain the old behavior, explicitly call `result.infer_objects(copy=False)`. To opt-in to the future behavior, set `pd.set_option('future.no_silent_downcasting', True)`\n",
      "  X['Gender'] = X['Gender'].replace('F',1)\n"
     ]
    }
   ],
   "source": [
    "X['Gender'] = X['Gender'].replace('M',0)\n",
    "X['Gender'] = X['Gender'].replace('F',1)"
   ]
  },
  {
   "cell_type": "code",
   "execution_count": 9,
   "id": "cdb539b0-407a-4765-ae3c-49edefee1b84",
   "metadata": {},
   "outputs": [
    {
     "data": {
      "text/plain": [
       "array(['ATA', 'NAP', 'ASY', 'TA'], dtype=object)"
      ]
     },
     "execution_count": 9,
     "metadata": {},
     "output_type": "execute_result"
    }
   ],
   "source": [
    "X['ChestPainType'].unique()"
   ]
  },
  {
   "cell_type": "code",
   "execution_count": 10,
   "id": "e4f379df-9730-407b-973f-af3c06139bf3",
   "metadata": {},
   "outputs": [
    {
     "name": "stderr",
     "output_type": "stream",
     "text": [
      "C:\\Users\\Tesla Laptops\\AppData\\Local\\Temp\\ipykernel_16196\\834497296.py:4: FutureWarning: Downcasting behavior in `replace` is deprecated and will be removed in a future version. To retain the old behavior, explicitly call `result.infer_objects(copy=False)`. To opt-in to the future behavior, set `pd.set_option('future.no_silent_downcasting', True)`\n",
      "  X['ChestPainType'] = X['ChestPainType'].replace('TA',3)\n"
     ]
    }
   ],
   "source": [
    "X['ChestPainType'] = X['ChestPainType'].replace('ATA',0)\n",
    "X['ChestPainType'] = X['ChestPainType'].replace('NAP',1)\n",
    "X['ChestPainType'] = X['ChestPainType'].replace('ASY',2)\n",
    "X['ChestPainType'] = X['ChestPainType'].replace('TA',3)"
   ]
  },
  {
   "cell_type": "code",
   "execution_count": 11,
   "id": "feaf5b89-ad65-46fd-aac1-16ad11ff9dc1",
   "metadata": {},
   "outputs": [
    {
     "data": {
      "text/plain": [
       "array(['Normal', 'ST', 'LVH'], dtype=object)"
      ]
     },
     "execution_count": 11,
     "metadata": {},
     "output_type": "execute_result"
    }
   ],
   "source": [
    "X['RestingECG'].unique()"
   ]
  },
  {
   "cell_type": "code",
   "execution_count": 12,
   "id": "91a0bb7a-7b08-4c61-93f5-ba513411973b",
   "metadata": {},
   "outputs": [
    {
     "name": "stderr",
     "output_type": "stream",
     "text": [
      "C:\\Users\\Tesla Laptops\\AppData\\Local\\Temp\\ipykernel_16196\\2060767386.py:3: FutureWarning: Downcasting behavior in `replace` is deprecated and will be removed in a future version. To retain the old behavior, explicitly call `result.infer_objects(copy=False)`. To opt-in to the future behavior, set `pd.set_option('future.no_silent_downcasting', True)`\n",
      "  X['RestingECG'] = X['RestingECG'].replace('LVH',2)\n"
     ]
    }
   ],
   "source": [
    "X['RestingECG'] = X['RestingECG'].replace('Normal',0)\n",
    "X['RestingECG'] = X['RestingECG'].replace('ST',1)\n",
    "X['RestingECG'] = X['RestingECG'].replace('LVH',2)"
   ]
  },
  {
   "cell_type": "code",
   "execution_count": 13,
   "id": "505cee94-0927-449d-83b5-2e87ac372e54",
   "metadata": {},
   "outputs": [
    {
     "data": {
      "text/plain": [
       "array(['N', 'Y'], dtype=object)"
      ]
     },
     "execution_count": 13,
     "metadata": {},
     "output_type": "execute_result"
    }
   ],
   "source": [
    "X['ExerciseAngina'].unique()"
   ]
  },
  {
   "cell_type": "code",
   "execution_count": 14,
   "id": "864e1464-68ed-4787-9c79-5eeee1afd400",
   "metadata": {},
   "outputs": [
    {
     "name": "stderr",
     "output_type": "stream",
     "text": [
      "C:\\Users\\Tesla Laptops\\AppData\\Local\\Temp\\ipykernel_16196\\2839445076.py:2: FutureWarning: Downcasting behavior in `replace` is deprecated and will be removed in a future version. To retain the old behavior, explicitly call `result.infer_objects(copy=False)`. To opt-in to the future behavior, set `pd.set_option('future.no_silent_downcasting', True)`\n",
      "  X['ExerciseAngina'] = X['ExerciseAngina'].replace('Y',1)\n"
     ]
    }
   ],
   "source": [
    "X['ExerciseAngina'] = X['ExerciseAngina'].replace('N',0)\n",
    "X['ExerciseAngina'] = X['ExerciseAngina'].replace('Y',1)"
   ]
  },
  {
   "cell_type": "code",
   "execution_count": 15,
   "id": "d6418824-bd4d-45db-9fd3-48bbaa9dfd83",
   "metadata": {},
   "outputs": [
    {
     "data": {
      "text/plain": [
       "array(['Up', 'Flat', 'Down'], dtype=object)"
      ]
     },
     "execution_count": 15,
     "metadata": {},
     "output_type": "execute_result"
    }
   ],
   "source": [
    "X['ST_Slope'].unique()"
   ]
  },
  {
   "cell_type": "code",
   "execution_count": 16,
   "id": "2717d745-1a45-4579-b903-6095b4785be1",
   "metadata": {},
   "outputs": [
    {
     "name": "stderr",
     "output_type": "stream",
     "text": [
      "C:\\Users\\Tesla Laptops\\AppData\\Local\\Temp\\ipykernel_16196\\2025370437.py:3: FutureWarning: Downcasting behavior in `replace` is deprecated and will be removed in a future version. To retain the old behavior, explicitly call `result.infer_objects(copy=False)`. To opt-in to the future behavior, set `pd.set_option('future.no_silent_downcasting', True)`\n",
      "  X['ST_Slope'] = X['ST_Slope'].replace('Down',2)\n"
     ]
    }
   ],
   "source": [
    "X['ST_Slope'] = X['ST_Slope'].replace('Up',0)\n",
    "X['ST_Slope'] = X['ST_Slope'].replace('Flat',1)\n",
    "X['ST_Slope'] = X['ST_Slope'].replace('Down',2)"
   ]
  },
  {
   "cell_type": "code",
   "execution_count": 17,
   "id": "9c87464b-08b8-48e4-b3b7-03fa27265a7a",
   "metadata": {},
   "outputs": [
    {
     "data": {
      "text/html": [
       "<div>\n",
       "<style scoped>\n",
       "    .dataframe tbody tr th:only-of-type {\n",
       "        vertical-align: middle;\n",
       "    }\n",
       "\n",
       "    .dataframe tbody tr th {\n",
       "        vertical-align: top;\n",
       "    }\n",
       "\n",
       "    .dataframe thead th {\n",
       "        text-align: right;\n",
       "    }\n",
       "</style>\n",
       "<table border=\"1\" class=\"dataframe\">\n",
       "  <thead>\n",
       "    <tr style=\"text-align: right;\">\n",
       "      <th></th>\n",
       "      <th>Age</th>\n",
       "      <th>Gender</th>\n",
       "      <th>ChestPainType</th>\n",
       "      <th>RestingBP</th>\n",
       "      <th>Cholesterol</th>\n",
       "      <th>FastingBS</th>\n",
       "      <th>RestingECG</th>\n",
       "      <th>MaxHR</th>\n",
       "      <th>ExerciseAngina</th>\n",
       "      <th>Oldpeak</th>\n",
       "      <th>ST_Slope</th>\n",
       "    </tr>\n",
       "  </thead>\n",
       "  <tbody>\n",
       "    <tr>\n",
       "      <th>0</th>\n",
       "      <td>40</td>\n",
       "      <td>0</td>\n",
       "      <td>0</td>\n",
       "      <td>140</td>\n",
       "      <td>289</td>\n",
       "      <td>0</td>\n",
       "      <td>0</td>\n",
       "      <td>172</td>\n",
       "      <td>0</td>\n",
       "      <td>0.0</td>\n",
       "      <td>0</td>\n",
       "    </tr>\n",
       "    <tr>\n",
       "      <th>1</th>\n",
       "      <td>49</td>\n",
       "      <td>1</td>\n",
       "      <td>1</td>\n",
       "      <td>160</td>\n",
       "      <td>180</td>\n",
       "      <td>0</td>\n",
       "      <td>0</td>\n",
       "      <td>156</td>\n",
       "      <td>0</td>\n",
       "      <td>1.0</td>\n",
       "      <td>1</td>\n",
       "    </tr>\n",
       "    <tr>\n",
       "      <th>2</th>\n",
       "      <td>37</td>\n",
       "      <td>0</td>\n",
       "      <td>0</td>\n",
       "      <td>130</td>\n",
       "      <td>283</td>\n",
       "      <td>0</td>\n",
       "      <td>1</td>\n",
       "      <td>98</td>\n",
       "      <td>0</td>\n",
       "      <td>0.0</td>\n",
       "      <td>0</td>\n",
       "    </tr>\n",
       "    <tr>\n",
       "      <th>3</th>\n",
       "      <td>48</td>\n",
       "      <td>1</td>\n",
       "      <td>2</td>\n",
       "      <td>138</td>\n",
       "      <td>214</td>\n",
       "      <td>0</td>\n",
       "      <td>0</td>\n",
       "      <td>108</td>\n",
       "      <td>1</td>\n",
       "      <td>1.5</td>\n",
       "      <td>1</td>\n",
       "    </tr>\n",
       "    <tr>\n",
       "      <th>4</th>\n",
       "      <td>54</td>\n",
       "      <td>0</td>\n",
       "      <td>1</td>\n",
       "      <td>150</td>\n",
       "      <td>195</td>\n",
       "      <td>0</td>\n",
       "      <td>0</td>\n",
       "      <td>122</td>\n",
       "      <td>0</td>\n",
       "      <td>0.0</td>\n",
       "      <td>0</td>\n",
       "    </tr>\n",
       "    <tr>\n",
       "      <th>...</th>\n",
       "      <td>...</td>\n",
       "      <td>...</td>\n",
       "      <td>...</td>\n",
       "      <td>...</td>\n",
       "      <td>...</td>\n",
       "      <td>...</td>\n",
       "      <td>...</td>\n",
       "      <td>...</td>\n",
       "      <td>...</td>\n",
       "      <td>...</td>\n",
       "      <td>...</td>\n",
       "    </tr>\n",
       "    <tr>\n",
       "      <th>913</th>\n",
       "      <td>45</td>\n",
       "      <td>0</td>\n",
       "      <td>3</td>\n",
       "      <td>110</td>\n",
       "      <td>264</td>\n",
       "      <td>0</td>\n",
       "      <td>0</td>\n",
       "      <td>132</td>\n",
       "      <td>0</td>\n",
       "      <td>1.2</td>\n",
       "      <td>1</td>\n",
       "    </tr>\n",
       "    <tr>\n",
       "      <th>914</th>\n",
       "      <td>68</td>\n",
       "      <td>0</td>\n",
       "      <td>2</td>\n",
       "      <td>144</td>\n",
       "      <td>193</td>\n",
       "      <td>1</td>\n",
       "      <td>0</td>\n",
       "      <td>141</td>\n",
       "      <td>0</td>\n",
       "      <td>3.4</td>\n",
       "      <td>1</td>\n",
       "    </tr>\n",
       "    <tr>\n",
       "      <th>915</th>\n",
       "      <td>57</td>\n",
       "      <td>0</td>\n",
       "      <td>2</td>\n",
       "      <td>130</td>\n",
       "      <td>131</td>\n",
       "      <td>0</td>\n",
       "      <td>0</td>\n",
       "      <td>115</td>\n",
       "      <td>1</td>\n",
       "      <td>1.2</td>\n",
       "      <td>1</td>\n",
       "    </tr>\n",
       "    <tr>\n",
       "      <th>916</th>\n",
       "      <td>57</td>\n",
       "      <td>1</td>\n",
       "      <td>0</td>\n",
       "      <td>130</td>\n",
       "      <td>236</td>\n",
       "      <td>0</td>\n",
       "      <td>2</td>\n",
       "      <td>174</td>\n",
       "      <td>0</td>\n",
       "      <td>0.0</td>\n",
       "      <td>1</td>\n",
       "    </tr>\n",
       "    <tr>\n",
       "      <th>917</th>\n",
       "      <td>38</td>\n",
       "      <td>0</td>\n",
       "      <td>1</td>\n",
       "      <td>138</td>\n",
       "      <td>175</td>\n",
       "      <td>0</td>\n",
       "      <td>0</td>\n",
       "      <td>173</td>\n",
       "      <td>0</td>\n",
       "      <td>0.0</td>\n",
       "      <td>0</td>\n",
       "    </tr>\n",
       "  </tbody>\n",
       "</table>\n",
       "<p>918 rows × 11 columns</p>\n",
       "</div>"
      ],
      "text/plain": [
       "     Age  Gender  ChestPainType  RestingBP  Cholesterol  FastingBS  \\\n",
       "0     40       0              0        140          289          0   \n",
       "1     49       1              1        160          180          0   \n",
       "2     37       0              0        130          283          0   \n",
       "3     48       1              2        138          214          0   \n",
       "4     54       0              1        150          195          0   \n",
       "..   ...     ...            ...        ...          ...        ...   \n",
       "913   45       0              3        110          264          0   \n",
       "914   68       0              2        144          193          1   \n",
       "915   57       0              2        130          131          0   \n",
       "916   57       1              0        130          236          0   \n",
       "917   38       0              1        138          175          0   \n",
       "\n",
       "     RestingECG  MaxHR  ExerciseAngina  Oldpeak  ST_Slope  \n",
       "0             0    172               0      0.0         0  \n",
       "1             0    156               0      1.0         1  \n",
       "2             1     98               0      0.0         0  \n",
       "3             0    108               1      1.5         1  \n",
       "4             0    122               0      0.0         0  \n",
       "..          ...    ...             ...      ...       ...  \n",
       "913           0    132               0      1.2         1  \n",
       "914           0    141               0      3.4         1  \n",
       "915           0    115               1      1.2         1  \n",
       "916           2    174               0      0.0         1  \n",
       "917           0    173               0      0.0         0  \n",
       "\n",
       "[918 rows x 11 columns]"
      ]
     },
     "execution_count": 17,
     "metadata": {},
     "output_type": "execute_result"
    }
   ],
   "source": [
    "X"
   ]
  },
  {
   "cell_type": "code",
   "execution_count": 18,
   "id": "32232ff6-90f5-4743-8f26-62d7f07a94e8",
   "metadata": {},
   "outputs": [
    {
     "name": "stdout",
     "output_type": "stream",
     "text": [
      "(734, 11)\n",
      "(184, 11)\n",
      "(734,)\n",
      "(184,)\n"
     ]
    }
   ],
   "source": [
    "from sklearn.model_selection import train_test_split \n",
    "from sklearn.naive_bayes import GaussianNB\n",
    "from sklearn import metrics \n",
    "from sklearn.metrics import confusion_matrix, classification_report\n",
    "from sklearn import metrics \n",
    "from sklearn.metrics import confusion_matrix, classification_report\n",
    "\n",
    "X_train,X_test,Y_train,Y_test = train_test_split(X, Y,test_size=0.20,random_state=0) \n",
    "print(X_train.shape )\n",
    "print(X_test.shape) \n",
    "print(Y_train.shape) \n",
    "print(Y_test.shape)"
   ]
  },
  {
   "cell_type": "code",
   "execution_count": 19,
   "id": "50d3fc14-6c77-4fbe-a796-11fa61ad446b",
   "metadata": {},
   "outputs": [],
   "source": [
    "# Creating Gaussian Naive Bayes Object\n",
    "classifer1 = GaussianNB() \n",
    "# Training the model\n",
    "model1 = classifer1.fit(X_train, Y_train) "
   ]
  },
  {
   "cell_type": "code",
   "execution_count": 20,
   "id": "4ff2162a-2f58-4c19-9a01-a1e6a2bf7d98",
   "metadata": {},
   "outputs": [
    {
     "name": "stdout",
     "output_type": "stream",
     "text": [
      "The accuracy is 83.15217391304348%\n",
      "[[60 17]\n",
      " [14 93]]\n"
     ]
    }
   ],
   "source": [
    "# Evaluating the model\n",
    "Y_pred1 = model1.predict(X_test) \n",
    "print(\"The accuracy is \"+str(metrics.accuracy_score(Y_test,Y_pred1)*100)+\"%\") \n",
    "print(confusion_matrix(Y_test, Y_pred1))"
   ]
  },
  {
   "cell_type": "code",
   "execution_count": 21,
   "id": "c4a1a64a-8325-4ec9-b0cd-30293a777f59",
   "metadata": {},
   "outputs": [
    {
     "name": "stdout",
     "output_type": "stream",
     "text": [
      "              precision    recall  f1-score   support\n",
      "\n",
      "     class 0       0.81      0.78      0.79        77\n",
      "     class 1       0.85      0.87      0.86       107\n",
      "\n",
      "    accuracy                           0.83       184\n",
      "   macro avg       0.83      0.82      0.83       184\n",
      "weighted avg       0.83      0.83      0.83       184\n",
      "\n"
     ]
    }
   ],
   "source": [
    "target_names = ['class 0', 'class 1'] \n",
    "print(classification_report(Y_test, Y_pred1, target_names=target_names)) "
   ]
  },
  {
   "cell_type": "code",
   "execution_count": 22,
   "id": "ed479674-53b1-48b0-b88e-4e7fc6221f24",
   "metadata": {},
   "outputs": [
    {
     "name": "stdout",
     "output_type": "stream",
     "text": [
      "The accuracy is 84.23913043478261%\n",
      "[[58 19]\n",
      " [10 97]]\n"
     ]
    }
   ],
   "source": [
    "# Creating Gaussian Naive Bayes Object\n",
    "classifer2 = GaussianNB(priors=[0.25, 0.75]) \n",
    "# Training the model\n",
    "model2 = classifer2.fit(X_train, Y_train) \n",
    "\n",
    "# Evaluating the model\n",
    "Y_pred2 = model2.predict(X_test) \n",
    "print(\"The accuracy is \"+str(metrics.accuracy_score(Y_test,Y_pred2)*100)+\"%\") \n",
    "print(confusion_matrix(Y_test, Y_pred2))"
   ]
  },
  {
   "cell_type": "code",
   "execution_count": 23,
   "id": "46b3039f-6b01-41c1-afaa-a1cf067f1935",
   "metadata": {},
   "outputs": [],
   "source": [
    "# from sklearn.naive_bayes import MultinomialNB\n",
    "\n",
    "# # Creating Multinomial Naive Bayes Object\n",
    "# classifer3 = MultinomialNB() \n",
    "\n",
    "# # Training the model\n",
    "# model3 = classifer3.fit(X_train, Y_train) \n",
    "\n",
    "# # Evaluating the model\n",
    "# Y_pred3 = model3.predict(X_test) \n",
    "# print(\"The accuracy is \"+str(metrics.accuracy_score(Y_test,Y_pred3)*100)+\"%\") \n",
    "# print(confusion_matrix(Y_test, Y_pred3))"
   ]
  },
  {
   "cell_type": "markdown",
   "id": "098c6227-2924-4b06-a444-75d4329607f7",
   "metadata": {},
   "source": [
    "# Method 1 repalce neg val with abs \n",
    "# 1 CALCULATING NEG VALUES PER COLUMN"
   ]
  },
  {
   "cell_type": "code",
   "execution_count": 24,
   "id": "62f8a540-77bf-421d-9f55-8ea421acad7c",
   "metadata": {},
   "outputs": [
    {
     "name": "stdout",
     "output_type": "stream",
     "text": [
      "Negative values count per column:\n",
      "Age                0\n",
      "Gender             0\n",
      "ChestPainType      0\n",
      "RestingBP          0\n",
      "Cholesterol        0\n",
      "FastingBS          0\n",
      "RestingECG         0\n",
      "MaxHR              0\n",
      "ExerciseAngina     0\n",
      "Oldpeak           11\n",
      "ST_Slope           0\n",
      "dtype: int64\n"
     ]
    }
   ],
   "source": [
    "r= X_train.copy()\n",
    "# Boolean mask for negative values and is applied element wise to the DF\n",
    "negative_values = r < 0\n",
    "\n",
    "# Count the number of negative values in each column\n",
    "neg_count_per_column = negative_values.sum()\n",
    "print(\"Negative values count per column:\")\n",
    "print(neg_count_per_column)\n"
   ]
  },
  {
   "cell_type": "markdown",
   "id": "fe232bcb-0473-4f5f-a291-200f74bf12a1",
   "metadata": {},
   "source": [
    "# 2 Find the indices of negative values for each column"
   ]
  },
  {
   "cell_type": "code",
   "execution_count": 25,
   "id": "5e67edb0-caa4-45b8-b83c-453fda3328a4",
   "metadata": {},
   "outputs": [
    {
     "name": "stdout",
     "output_type": "stream",
     "text": [
      "Column: Oldpeak\n",
      "Indices of negative values: [331, 352, 334, 325, 407, 421, 326, 512, 324, 321, 335]\n"
     ]
    }
   ],
   "source": [
    "for column in r.columns:\n",
    "    if neg_count_per_column[column] > 0:  # Only process columns with negative values\n",
    "        print(f\"Column: {column}\")\n",
    "        print(\"Indices of negative values:\", r[r[column] < 0].index.tolist())\n"
   ]
  },
  {
   "cell_type": "markdown",
   "id": "7ef8712c-9b5e-4038-94c5-d1c089715771",
   "metadata": {},
   "source": [
    "# 3 Find the indices and the corresponding negative values for each column"
   ]
  },
  {
   "cell_type": "code",
   "execution_count": 26,
   "id": "8f565191-881f-43a9-a1d3-16cbba43e533",
   "metadata": {},
   "outputs": [
    {
     "name": "stdout",
     "output_type": "stream",
     "text": [
      "\n",
      "Column: Oldpeak\n",
      "Indices of negative values: [331, 352, 334, 325, 407, 421, 326, 512, 324, 321, 335]\n",
      "Negative values at these indices: [-1.0, -1.0, -0.7, -1.5, -0.5, -0.5, -0.1, -0.1, -2.6, -0.9, -0.8]\n"
     ]
    }
   ],
   "source": [
    "for column in r.columns:\n",
    "    if neg_count_per_column[column] > 0:  # Only process columns with negative values\n",
    "        # Get indices where the column has negative values\n",
    "        indices = r[r[column] < 0].index.tolist()\n",
    "        \n",
    "        # Get the negative values at those indices\n",
    "        values = r.loc[indices, column].tolist()\n",
    "        \n",
    "        # Print the results\n",
    "        print(f\"\\nColumn: {column}\")\n",
    "        print(\"Indices of negative values:\", indices)\n",
    "        print(\"Negative values at these indices:\", values)\n"
   ]
  },
  {
   "cell_type": "markdown",
   "id": "3f6ada01-3160-4e67-8c62-597cad1c1683",
   "metadata": {},
   "source": [
    "# 4 Replace negative values in the DataFrame with their positive counterparts"
   ]
  },
  {
   "cell_type": "code",
   "execution_count": 27,
   "id": "b46b91a9-d2e7-4d83-a6d6-c4f56a9a0d5d",
   "metadata": {},
   "outputs": [
    {
     "name": "stdout",
     "output_type": "stream",
     "text": [
      "Updated DataFrame:\n",
      "     Age  Gender  ChestPainType  RestingBP  Cholesterol  FastingBS  \\\n",
      "378   70       0              2        140            0          1   \n",
      "356   46       0              2        115            0          0   \n",
      "738   65       1              1        160          360          0   \n",
      "85    66       0              2        140          139          0   \n",
      "427   59       0              2        140            0          0   \n",
      "..   ...     ...            ...        ...          ...        ...   \n",
      "835   54       0              2        110          239          0   \n",
      "192   48       0              0        130          245          0   \n",
      "629   57       1              2        128          303          0   \n",
      "559   64       0              2        134          273          0   \n",
      "684   47       0              1        108          243          0   \n",
      "\n",
      "     RestingECG  MaxHR  ExerciseAngina  Oldpeak  ST_Slope  \n",
      "378           0    157               1      2.0         1  \n",
      "356           0    113               1      1.5         1  \n",
      "738           2    151               0      0.8         0  \n",
      "85            0     94               1      1.0         1  \n",
      "427           1    117               1      1.0         1  \n",
      "..          ...    ...             ...      ...       ...  \n",
      "835           0    126               1      2.8         1  \n",
      "192           0    160               0      0.0         0  \n",
      "629           2    159               0      0.0         0  \n",
      "559           0    102               1      4.0         2  \n",
      "684           0    152               0      0.0         0  \n",
      "\n",
      "[734 rows x 11 columns]\n"
     ]
    }
   ],
   "source": [
    "for column in r.columns:\n",
    "    if neg_count_per_column[column] > 0:  # Only process columns with negative values\n",
    "        # Replace negative values with their absolute values\n",
    "        r[column] = r[column].apply(lambda x: abs(x) if x < 0 else x)\n",
    "\n",
    "# Print the updated DataFrame\n",
    "print(\"Updated DataFrame:\")\n",
    "print(r)\n"
   ]
  },
  {
   "cell_type": "markdown",
   "id": "adcb1208-f774-48dc-8db2-57049f18c4c8",
   "metadata": {},
   "source": [
    "# VERIFAICATION THAT X_TRAIN HAS NO NEG VALUES"
   ]
  },
  {
   "cell_type": "code",
   "execution_count": 28,
   "id": "512e9f85-e918-42d6-b6db-47ac47cd7377",
   "metadata": {
    "scrolled": true
   },
   "outputs": [
    {
     "name": "stdout",
     "output_type": "stream",
     "text": [
      "Minimum value in X_train: 0.0\n",
      "Minimum value in X_test: -2.0\n"
     ]
    }
   ],
   "source": [
    "import numpy as np\n",
    "\n",
    "# Check for negative values in X_train\n",
    "print(\"Minimum value in X_train:\", np.min(r))\n",
    "print(\"Minimum value in X_test:\", np.min(X_test))\n"
   ]
  },
  {
   "cell_type": "code",
   "execution_count": 29,
   "id": "49777973-9778-4169-b5d8-53148b0c3efe",
   "metadata": {},
   "outputs": [
    {
     "name": "stdout",
     "output_type": "stream",
     "text": [
      "Negative values count per column:\n",
      "Age               0\n",
      "Gender            0\n",
      "ChestPainType     0\n",
      "RestingBP         0\n",
      "Cholesterol       0\n",
      "FastingBS         0\n",
      "RestingECG        0\n",
      "MaxHR             0\n",
      "ExerciseAngina    0\n",
      "Oldpeak           2\n",
      "ST_Slope          0\n",
      "dtype: int64\n",
      "Column: Oldpeak\n",
      "Indices of negative values: [332, 413]\n",
      "\n",
      "Column: Oldpeak\n",
      "Indices of negative values: [332, 413]\n",
      "Negative values at these indices: [-1.1, -2.0]\n",
      "Updated DataFrame:\n",
      "     Age  Gender  ChestPainType  RestingBP  Cholesterol  FastingBS  \\\n",
      "306   55       0              2        115            0          1   \n",
      "711   66       0              2        120          302          0   \n",
      "298   51       0              2        110            0          1   \n",
      "466   55       0              1        120            0          0   \n",
      "253   62       0              0        140          271          0   \n",
      "..   ...     ...            ...        ...          ...        ...   \n",
      "909   63       1              2        124          197          0   \n",
      "293   65       0              2        115            0          0   \n",
      "761   52       0              2        112          230          0   \n",
      "2     37       0              0        130          283          0   \n",
      "409   53       0              1        160            0          1   \n",
      "\n",
      "     RestingECG  MaxHR  ExerciseAngina  Oldpeak  ST_Slope  \n",
      "306           0    155               0      0.1         1  \n",
      "711           2    151               0      0.4         1  \n",
      "298           0     92               0      0.0         1  \n",
      "466           1    125               1      2.5         1  \n",
      "253           0    152               0      1.0         0  \n",
      "..          ...    ...             ...      ...       ...  \n",
      "909           0    136               1      0.0         1  \n",
      "293           0     93               1      0.0         1  \n",
      "761           0    160               0      0.0         0  \n",
      "2             1     98               0      0.0         0  \n",
      "409           2    122               1      0.0         1  \n",
      "\n",
      "[184 rows x 11 columns]\n"
     ]
    }
   ],
   "source": [
    "s= X_test.copy()\n",
    "# Boolean mask for negative values and is applied element wise to the DF\n",
    "negative_values = s < 0\n",
    "\n",
    "# Count the number of negative values in each column\n",
    "neg_count_per_column = negative_values.sum()\n",
    "print(\"Negative values count per column:\")\n",
    "print(neg_count_per_column)\n",
    "\n",
    "for column in s.columns:\n",
    "    if neg_count_per_column[column] > 0:  # Only process columns with negative values\n",
    "        print(f\"Column: {column}\")\n",
    "        print(\"Indices of negative values:\", s[s[column] < 0].index.tolist())\n",
    "\n",
    "for column in s.columns:\n",
    "    if neg_count_per_column[column] > 0:  # Only process columns with negative values\n",
    "        # Get indices where the column has negative values\n",
    "        indices = s[s[column] < 0].index.tolist()\n",
    "        \n",
    "        # Get the negative values at those indices\n",
    "        values = s.loc[indices, column].tolist()\n",
    "        \n",
    "        # Print the results\n",
    "        print(f\"\\nColumn: {column}\")\n",
    "        print(\"Indices of negative values:\", indices)\n",
    "        print(\"Negative values at these indices:\", values)\n",
    "\n",
    "for column in s.columns:\n",
    "    if neg_count_per_column[column] > 0:  # Only process columns with negative values\n",
    "        # Replace negative values with their absolute values\n",
    "        s[column] = s[column].apply(lambda x: abs(x) if x < 0 else x)\n",
    "\n",
    "# Print the updated DataFrame\n",
    "print(\"Updated DataFrame:\")\n",
    "print(s)"
   ]
  },
  {
   "cell_type": "code",
   "execution_count": 30,
   "id": "17b05b19-2f16-40ca-bd71-bd433ce84b85",
   "metadata": {},
   "outputs": [
    {
     "name": "stdout",
     "output_type": "stream",
     "text": [
      "Minimum value in X_train: 0.0\n",
      "Minimum value in X_test: 0.0\n",
      "Minimum value in : 0\n",
      "Minimum value in : 0\n"
     ]
    }
   ],
   "source": [
    "# Check for negative values in X_train\n",
    "print(\"Minimum value in X_train:\", np.min(r))\n",
    "print(\"Minimum value in X_test:\", np.min(s))\n",
    "print(\"Minimum value in :\", np.min(Y_test))\n",
    "print(\"Minimum value in :\", np.min(Y_train))"
   ]
  },
  {
   "cell_type": "code",
   "execution_count": 31,
   "id": "59a7d053-0b3b-410c-a7dd-e93e0599e993",
   "metadata": {},
   "outputs": [
    {
     "name": "stdout",
     "output_type": "stream",
     "text": [
      "The accuracy is 67.93478260869566%\n",
      "[[65 12]\n",
      " [47 60]]\n"
     ]
    }
   ],
   "source": [
    "from sklearn.naive_bayes import MultinomialNB\n",
    "\n",
    "# Creating Multinomial Naive Bayes Object\n",
    "classifer3 = MultinomialNB() \n",
    "\n",
    "# Training the model\n",
    "model3 = classifer3.fit(r, Y_train) \n",
    "\n",
    "# Evaluating the model\n",
    "Y_pred3 = model3.predict(s) \n",
    "print(\"The accuracy is \"+str(metrics.accuracy_score(Y_test,Y_pred3)*100)+\"%\") \n",
    "print(confusion_matrix(Y_test, Y_pred3))"
   ]
  },
  {
   "cell_type": "markdown",
   "id": "a78a9f70-84c6-4f47-86b3-6451cd5bbf26",
   "metadata": {},
   "source": [
    "# 2 method scale "
   ]
  },
  {
   "cell_type": "code",
   "execution_count": 32,
   "id": "24e09043-2fd4-42a6-a78c-8329a55a3ca7",
   "metadata": {},
   "outputs": [
    {
     "name": "stdout",
     "output_type": "stream",
     "text": [
      "Accuracy: 80.97826086956522 %\n"
     ]
    }
   ],
   "source": [
    "from sklearn.preprocessing import MinMaxScaler\n",
    "a= X_train.copy()\n",
    "b= X_test.copy()\n",
    "\n",
    "# Scale data to [0, 1]\n",
    "scaler = MinMaxScaler()\n",
    "X_train_scaled = scaler.fit_transform(a)\n",
    "X_test_scaled = scaler.transform(b)\n",
    "\n",
    "# Use MultinomialNB with scaled data\n",
    "from sklearn.naive_bayes import MultinomialNB\n",
    "\n",
    "classifier = MultinomialNB()\n",
    "model = classifier.fit(X_train_scaled, Y_train)\n",
    "Y_pred = model.predict(X_test_scaled)\n",
    "\n",
    "# Evaluate\n",
    "print(\"Accuracy:\", metrics.accuracy_score(Y_test, Y_pred) * 100, \"%\")\n"
   ]
  },
  {
   "cell_type": "markdown",
   "id": "f6a5b999-a0f8-4676-a6ad-23549e00c004",
   "metadata": {},
   "source": [
    "# 3 Method drop continous valued column"
   ]
  },
  {
   "cell_type": "code",
   "execution_count": 33,
   "id": "f155019c-387e-4147-abc9-7674e118904a",
   "metadata": {},
   "outputs": [],
   "source": [
    "R = X.copy()  # Make a copy of X first, so X isn't affected\n",
    "R.drop(\"Age\", axis=1, inplace=True)\n",
    "R.drop(\"RestingBP\", axis=1, inplace=True)\n",
    "R.drop(\"Cholesterol\", axis=1, inplace=True)\n",
    "R.drop(\"Oldpeak\", axis=1, inplace=True)\n",
    "R.drop(\"MaxHR\", axis=1, inplace=True)"
   ]
  },
  {
   "cell_type": "code",
   "execution_count": 34,
   "id": "9346da8a-3a33-4391-b057-b9df913daced",
   "metadata": {},
   "outputs": [
    {
     "name": "stdout",
     "output_type": "stream",
     "text": [
      "(734, 6)\n",
      "(184, 6)\n",
      "(734,)\n",
      "(184,)\n",
      "The accuracy is 70.65217391304348%\n",
      "[[39 38]\n",
      " [16 91]]\n"
     ]
    }
   ],
   "source": [
    "from sklearn.naive_bayes import MultinomialNB\n",
    "from sklearn.model_selection import train_test_split \n",
    "from sklearn.naive_bayes import GaussianNB\n",
    "from sklearn import metrics \n",
    "from sklearn.metrics import confusion_matrix, classification_report\n",
    "from sklearn import metrics \n",
    "from sklearn.metrics import confusion_matrix, classification_report\n",
    "\n",
    "X_train,X_test,Y_train,Y_test = train_test_split(R, Y,test_size=0.20,random_state=0) \n",
    "print(X_train.shape )\n",
    "print(X_test.shape) \n",
    "print(Y_train.shape) \n",
    "print(Y_test.shape)\n",
    "\n",
    "# Creating Multinomial Naive Bayes Object\n",
    "classifer4 = MultinomialNB() \n",
    "\n",
    "# Training the model\n",
    "model4 = classifer4.fit(X_train, Y_train) \n",
    "\n",
    "# Evaluating the model\n",
    "Y_pred4 = model4.predict(X_test) \n",
    "print(\"The accuracy is \"+str(metrics.accuracy_score(Y_test,Y_pred4)*100)+\"%\") \n",
    "print(confusion_matrix(Y_test, Y_pred4))"
   ]
  },
  {
   "cell_type": "code",
   "execution_count": null,
   "id": "a6e7e216-c84e-43bf-a3eb-6158cb43885b",
   "metadata": {},
   "outputs": [],
   "source": []
  }
 ],
 "metadata": {
  "kernelspec": {
   "display_name": "Python 3 (ipykernel)",
   "language": "python",
   "name": "python3"
  },
  "language_info": {
   "codemirror_mode": {
    "name": "ipython",
    "version": 3
   },
   "file_extension": ".py",
   "mimetype": "text/x-python",
   "name": "python",
   "nbconvert_exporter": "python",
   "pygments_lexer": "ipython3",
   "version": "3.12.7"
  }
 },
 "nbformat": 4,
 "nbformat_minor": 5
}
