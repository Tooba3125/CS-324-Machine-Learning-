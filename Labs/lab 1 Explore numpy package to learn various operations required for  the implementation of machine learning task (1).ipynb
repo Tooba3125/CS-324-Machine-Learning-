{
 "cells": [
  {
   "cell_type": "code",
   "execution_count": 2,
   "id": "b095ac24-3cee-411a-9912-b97d26420088",
   "metadata": {},
   "outputs": [],
   "source": [
    "import numpy as np"
   ]
  },
  {
   "cell_type": "code",
   "execution_count": 3,
   "id": "7f8f8415-8f6e-4f6d-a534-7574095d9d6b",
   "metadata": {},
   "outputs": [
    {
     "data": {
      "text/plain": [
       "array([6. , 7.5, 8. , 0. , 1. ])"
      ]
     },
     "execution_count": 3,
     "metadata": {},
     "output_type": "execute_result"
    }
   ],
   "source": [
    "data1 = [6, 7.5, 8, 0, 1]\n",
    "arr1 = np.array(data1)\n",
    "arr1"
   ]
  },
  {
   "cell_type": "markdown",
   "id": "cbb9f310-3cf0-4b20-8f71-2d4379f086af",
   "metadata": {},
   "source": [
    "data2 = [[1, 2, 3, 4], [5, 6, 7, 8]]\n",
    "arr2 = np.array(data2)\n",
    "print(arr2)\n",
    "print(arr2.ndim)\n",
    "arr2.shape"
   ]
  },
  {
   "cell_type": "markdown",
   "id": "921ddaf0-ff2d-4518-a259-0f99f8d0f08a",
   "metadata": {},
   "source": [
    "# DTYPE"
   ]
  },
  {
   "cell_type": "code",
   "execution_count": 4,
   "id": "7988f027-66d3-4d34-aa72-5f0682308d9a",
   "metadata": {},
   "outputs": [
    {
     "data": {
      "text/plain": [
       "dtype('float64')"
      ]
     },
     "execution_count": 4,
     "metadata": {},
     "output_type": "execute_result"
    }
   ],
   "source": [
    "arr1.dtype"
   ]
  },
  {
   "cell_type": "code",
   "execution_count": 6,
   "id": "7632c4d1-401a-4197-9cb8-0d734d0ece09",
   "metadata": {},
   "outputs": [],
   "source": [
    "arr2 = np.array([1,3,5,7,9])"
   ]
  },
  {
   "cell_type": "code",
   "execution_count": 7,
   "id": "ab902389-abe3-4bf9-8b66-44397d067fd6",
   "metadata": {},
   "outputs": [
    {
     "data": {
      "text/plain": [
       "dtype('int32')"
      ]
     },
     "execution_count": 7,
     "metadata": {},
     "output_type": "execute_result"
    }
   ],
   "source": [
    "arr2.dtype"
   ]
  },
  {
   "cell_type": "code",
   "execution_count": 8,
   "id": "a199b148-9240-4240-9001-7fa0a7884c2b",
   "metadata": {},
   "outputs": [
    {
     "data": {
      "text/plain": [
       "array([1., 2., 3.])"
      ]
     },
     "execution_count": 8,
     "metadata": {},
     "output_type": "execute_result"
    }
   ],
   "source": [
    "arr3= np.array([1,2,3] , dtype = np.float64)\n",
    "arr3"
   ]
  },
  {
   "cell_type": "code",
   "execution_count": 9,
   "id": "dc0d90ab-3b01-4568-9829-8d43eef9d83a",
   "metadata": {},
   "outputs": [
    {
     "data": {
      "text/plain": [
       "array([1, 2, 3])"
      ]
     },
     "execution_count": 9,
     "metadata": {},
     "output_type": "execute_result"
    }
   ],
   "source": [
    "arr4= np.array([1,2,3] , dtype = np.int32)\n",
    "arr4"
   ]
  },
  {
   "cell_type": "code",
   "execution_count": 10,
   "id": "96333b03-c80b-4672-8c07-c12da08c1525",
   "metadata": {},
   "outputs": [
    {
     "data": {
      "text/plain": [
       "dtype('float64')"
      ]
     },
     "execution_count": 10,
     "metadata": {},
     "output_type": "execute_result"
    }
   ],
   "source": [
    "arr3.dtype"
   ]
  },
  {
   "cell_type": "code",
   "execution_count": 11,
   "id": "d2af7804-a31a-41f0-af99-ead34d603eb5",
   "metadata": {},
   "outputs": [
    {
     "data": {
      "text/plain": [
       "dtype('int32')"
      ]
     },
     "execution_count": 11,
     "metadata": {},
     "output_type": "execute_result"
    }
   ],
   "source": [
    "arr4.dtype"
   ]
  },
  {
   "cell_type": "markdown",
   "id": "96f08f84-7734-4c17-8b25-68a4e0641647",
   "metadata": {},
   "source": [
    "# np.zeroes"
   ]
  },
  {
   "cell_type": "code",
   "execution_count": 12,
   "id": "500d0d85-9887-4db2-a4af-a36058c2d8bd",
   "metadata": {},
   "outputs": [
    {
     "data": {
      "text/plain": [
       "array([0, 0, 0, 0, 0, 0, 0, 0, 0, 0])"
      ]
     },
     "execution_count": 12,
     "metadata": {},
     "output_type": "execute_result"
    }
   ],
   "source": [
    "np.zeros(10 , dtype= np.int32)"
   ]
  },
  {
   "cell_type": "code",
   "execution_count": 13,
   "id": "f32ff03c-0f74-446a-9470-7acab3e0d139",
   "metadata": {},
   "outputs": [
    {
     "data": {
      "text/plain": [
       "array([0., 0., 0., 0., 0., 0., 0., 0., 0., 0.])"
      ]
     },
     "execution_count": 13,
     "metadata": {},
     "output_type": "execute_result"
    }
   ],
   "source": [
    "np.zeros(10)"
   ]
  },
  {
   "cell_type": "code",
   "execution_count": 14,
   "id": "c98c9059-7dac-48c0-a8c3-f7db55853583",
   "metadata": {},
   "outputs": [
    {
     "data": {
      "text/plain": [
       "array([[0., 0., 0., 0., 0., 0.],\n",
       "       [0., 0., 0., 0., 0., 0.],\n",
       "       [0., 0., 0., 0., 0., 0.]])"
      ]
     },
     "execution_count": 14,
     "metadata": {},
     "output_type": "execute_result"
    }
   ],
   "source": [
    "np.zeros((3,6))"
   ]
  },
  {
   "cell_type": "markdown",
   "id": "c77d32cb-def3-44fc-a4e4-2049eb16a721",
   "metadata": {},
   "source": [
    "2D array"
   ]
  },
  {
   "cell_type": "code",
   "execution_count": 15,
   "id": "d2392ca8-14c3-409c-b571-475fed69d96e",
   "metadata": {},
   "outputs": [
    {
     "data": {
      "text/plain": [
       "array([[0, 0, 0, 0, 0, 0],\n",
       "       [0, 0, 0, 0, 0, 0],\n",
       "       [0, 0, 0, 0, 0, 0]])"
      ]
     },
     "execution_count": 15,
     "metadata": {},
     "output_type": "execute_result"
    }
   ],
   "source": [
    "np.zeros((3,6) , dtype = np.int32)"
   ]
  },
  {
   "cell_type": "code",
   "execution_count": 16,
   "id": "5bf20ca6-a560-424e-8932-a1567c922f0e",
   "metadata": {},
   "outputs": [
    {
     "data": {
      "text/plain": [
       "array([[[6.80425344e-312, 3.16202013e-322],\n",
       "        [0.00000000e+000, 0.00000000e+000],\n",
       "        [1.18831764e-312, 2.17766519e-076]],\n",
       "\n",
       "       [[2.67900862e+184, 3.96399654e-061],\n",
       "        [6.52190405e-038, 4.11582325e+179],\n",
       "        [2.23078330e+160, 2.17530532e-076]]])"
      ]
     },
     "execution_count": 16,
     "metadata": {},
     "output_type": "execute_result"
    }
   ],
   "source": [
    "np.empty((2,3,2))"
   ]
  },
  {
   "cell_type": "markdown",
   "id": "643e441d-c83b-4b03-a34f-7748e8e2b18e",
   "metadata": {},
   "source": [
    "# arange"
   ]
  },
  {
   "cell_type": "code",
   "execution_count": 17,
   "id": "87a561dc-48c4-4a0e-be1f-06e6323a745e",
   "metadata": {},
   "outputs": [
    {
     "data": {
      "text/plain": [
       "array([ 0,  1,  2,  3,  4,  5,  6,  7,  8,  9, 10, 11, 12, 13, 14])"
      ]
     },
     "execution_count": 17,
     "metadata": {},
     "output_type": "execute_result"
    }
   ],
   "source": [
    "np.arange(15)"
   ]
  },
  {
   "cell_type": "markdown",
   "id": "97af5a24-7635-4afd-9a58-4973132b1414",
   "metadata": {},
   "source": [
    "# array"
   ]
  },
  {
   "cell_type": "code",
   "execution_count": 18,
   "id": "ac7d8ce3-b1ed-4dec-b67f-e87ceb338213",
   "metadata": {},
   "outputs": [
    {
     "data": {
      "text/plain": [
       "array([1, 8, 9])"
      ]
     },
     "execution_count": 18,
     "metadata": {},
     "output_type": "execute_result"
    }
   ],
   "source": [
    "np.array([1,8,9])"
   ]
  },
  {
   "cell_type": "code",
   "execution_count": 19,
   "id": "3a4fd74c-705b-43de-8819-6dbbbcbfaaed",
   "metadata": {},
   "outputs": [
    {
     "data": {
      "text/plain": [
       "array([1, 8, 9])"
      ]
     },
     "execution_count": 19,
     "metadata": {},
     "output_type": "execute_result"
    }
   ],
   "source": [
    "np.array((1,8,9))"
   ]
  },
  {
   "cell_type": "markdown",
   "id": "81f35b11-4add-432f-9c44-4ef204d093b0",
   "metadata": {},
   "source": [
    "# ones and ones_like"
   ]
  },
  {
   "cell_type": "code",
   "execution_count": 20,
   "id": "5b0da8be-ec96-40d2-accc-9c0957fad7ba",
   "metadata": {},
   "outputs": [
    {
     "data": {
      "text/plain": [
       "array([[1, 1, 1],\n",
       "       [1, 1, 1]])"
      ]
     },
     "execution_count": 20,
     "metadata": {},
     "output_type": "execute_result"
    }
   ],
   "source": [
    "np.ones((2,3) , dtype =np.int32)"
   ]
  },
  {
   "cell_type": "code",
   "execution_count": 21,
   "id": "9341cbb7-bad3-4889-94e7-d4c4506bd697",
   "metadata": {},
   "outputs": [
    {
     "name": "stdout",
     "output_type": "stream",
     "text": [
      "[[[1 2]\n",
      "  [3 4]\n",
      "  [5 6]]]\n"
     ]
    },
    {
     "data": {
      "text/plain": [
       "array([[[1, 1],\n",
       "        [1, 1],\n",
       "        [1, 1]]])"
      ]
     },
     "execution_count": 21,
     "metadata": {},
     "output_type": "execute_result"
    }
   ],
   "source": [
    "tooba = np.array([[[1,2],[3,4],[5,6]]])\n",
    "print(tooba)\n",
    "np.ones_like(tooba)"
   ]
  },
  {
   "cell_type": "markdown",
   "id": "846edb58-eb21-451f-bd0d-966d3d82a32d",
   "metadata": {},
   "source": [
    "# zeros, zeros_like"
   ]
  },
  {
   "cell_type": "code",
   "execution_count": 22,
   "id": "2f711449-7843-4f8a-8b3d-d7c3671f5365",
   "metadata": {},
   "outputs": [
    {
     "data": {
      "text/plain": [
       "array([[0., 0.],\n",
       "       [0., 0.],\n",
       "       [0., 0.]])"
      ]
     },
     "execution_count": 22,
     "metadata": {},
     "output_type": "execute_result"
    }
   ],
   "source": [
    "np.zeros((3,2))"
   ]
  },
  {
   "cell_type": "code",
   "execution_count": 23,
   "id": "1f1edd5c-f9fe-403e-9fed-6ac2601775b7",
   "metadata": {},
   "outputs": [
    {
     "name": "stdout",
     "output_type": "stream",
     "text": [
      "[[[1 2]\n",
      "  [3 4]\n",
      "  [5 6]]]\n"
     ]
    },
    {
     "data": {
      "text/plain": [
       "array([[[0, 0],\n",
       "        [0, 0],\n",
       "        [0, 0]]])"
      ]
     },
     "execution_count": 23,
     "metadata": {},
     "output_type": "execute_result"
    }
   ],
   "source": [
    "tooba = np.array([[[1,2],[3,4],[5,6]]])\n",
    "print(tooba)\n",
    "np.zeros_like(tooba)"
   ]
  },
  {
   "cell_type": "markdown",
   "id": "29a3263a-ecb2-4335-aaf3-9a0104839c7d",
   "metadata": {},
   "source": [
    "# empty, empty_like"
   ]
  },
  {
   "cell_type": "code",
   "execution_count": 24,
   "id": "df2e47d6-55e9-4bc5-bab4-d57abd5e9e3c",
   "metadata": {},
   "outputs": [
    {
     "data": {
      "text/plain": [
       "array([[0., 0., 0.],\n",
       "       [0., 0., 0.]])"
      ]
     },
     "execution_count": 24,
     "metadata": {},
     "output_type": "execute_result"
    }
   ],
   "source": [
    "np.empty((2,3))"
   ]
  },
  {
   "cell_type": "markdown",
   "id": "cbf9e247-ec5b-4f1a-928f-0a38a3eb5da7",
   "metadata": {},
   "source": [
    "# eye "
   ]
  },
  {
   "cell_type": "markdown",
   "id": "578f9e8a-61b7-4168-a08b-3ed709d7a337",
   "metadata": {},
   "source": [
    "## np.eye(n, m, dtype, k for shift)"
   ]
  },
  {
   "cell_type": "code",
   "execution_count": 25,
   "id": "da4ff705-d107-4ea2-8b89-700ae0d533c5",
   "metadata": {},
   "outputs": [
    {
     "data": {
      "text/plain": [
       "array([[1, 0, 0, 0],\n",
       "       [0, 1, 0, 0],\n",
       "       [0, 0, 1, 0]])"
      ]
     },
     "execution_count": 25,
     "metadata": {},
     "output_type": "execute_result"
    }
   ],
   "source": [
    "np.eye(3,4 ,dtype =np.int32)"
   ]
  },
  {
   "cell_type": "code",
   "execution_count": 26,
   "id": "ca3a1562-6e84-40a3-8a3a-d450a64111c1",
   "metadata": {},
   "outputs": [
    {
     "data": {
      "text/plain": [
       "array([[0, 1, 0, 0],\n",
       "       [0, 0, 1, 0],\n",
       "       [0, 0, 0, 1]])"
      ]
     },
     "execution_count": 26,
     "metadata": {},
     "output_type": "execute_result"
    }
   ],
   "source": [
    "np.eye(3,4 ,dtype =np.int32 , k=1)"
   ]
  },
  {
   "cell_type": "markdown",
   "id": "67e93578-8935-46ea-a89d-3ac207c2f94d",
   "metadata": {},
   "source": [
    "np.eye(3,4 ,dtype =np.int32 , k=2)"
   ]
  },
  {
   "cell_type": "markdown",
   "id": "db34c773-bddb-42c7-9599-8de87df54f8b",
   "metadata": {},
   "source": [
    "# identity dig me 0s"
   ]
  },
  {
   "cell_type": "code",
   "execution_count": 27,
   "id": "7ad94421-fe33-43bd-b320-d48ac5803096",
   "metadata": {},
   "outputs": [
    {
     "data": {
      "text/plain": [
       "array([[1., 0.],\n",
       "       [0., 1.]])"
      ]
     },
     "execution_count": 27,
     "metadata": {},
     "output_type": "execute_result"
    }
   ],
   "source": [
    "np.identity(2)"
   ]
  },
  {
   "cell_type": "markdown",
   "id": "378466ea-ea9e-4386-989b-1f7e2825935f",
   "metadata": {},
   "source": [
    "# Type Conversion for ndarrays"
   ]
  },
  {
   "cell_type": "code",
   "execution_count": 28,
   "id": "acaff85d-5e54-474c-93e2-6bc817874914",
   "metadata": {},
   "outputs": [
    {
     "data": {
      "text/plain": [
       "dtype('int32')"
      ]
     },
     "execution_count": 28,
     "metadata": {},
     "output_type": "execute_result"
    }
   ],
   "source": [
    "a= np.array([4,5,6])\n",
    "a.dtype"
   ]
  },
  {
   "cell_type": "code",
   "execution_count": 29,
   "id": "e9a475f5-fa9a-4aad-b0f3-8c893eb1bd64",
   "metadata": {},
   "outputs": [
    {
     "data": {
      "text/plain": [
       "dtype('float32')"
      ]
     },
     "execution_count": 29,
     "metadata": {},
     "output_type": "execute_result"
    }
   ],
   "source": [
    "b= a.astype(np.float32)\n",
    "b.dtype"
   ]
  },
  {
   "cell_type": "code",
   "execution_count": 30,
   "id": "61bcfaeb-4250-4978-b451-5fa0f588ff9c",
   "metadata": {},
   "outputs": [
    {
     "data": {
      "text/plain": [
       "dtype('float64')"
      ]
     },
     "execution_count": 30,
     "metadata": {},
     "output_type": "execute_result"
    }
   ],
   "source": [
    "c= np.array([1.4, 7.8])\n",
    "c.dtype"
   ]
  },
  {
   "cell_type": "code",
   "execution_count": 31,
   "id": "8b561ba7-edde-4934-9706-a29cee449848",
   "metadata": {},
   "outputs": [
    {
     "data": {
      "text/plain": [
       "dtype('int32')"
      ]
     },
     "execution_count": 31,
     "metadata": {},
     "output_type": "execute_result"
    }
   ],
   "source": [
    "d= c.astype(np.int32)\n",
    "d.dtype"
   ]
  },
  {
   "cell_type": "code",
   "execution_count": 32,
   "id": "f36aeedc-f12c-4d99-bf90-c3c79eef1ffc",
   "metadata": {},
   "outputs": [
    {
     "data": {
      "text/plain": [
       "array([1, 7])"
      ]
     },
     "execution_count": 32,
     "metadata": {},
     "output_type": "execute_result"
    }
   ],
   "source": [
    "d"
   ]
  },
  {
   "cell_type": "code",
   "execution_count": 33,
   "id": "1901ff3f-d558-4519-b75e-08e008212d32",
   "metadata": {},
   "outputs": [
    {
     "name": "stdout",
     "output_type": "stream",
     "text": [
      "[ 1.25 -9.6  42.  ]\n"
     ]
    },
    {
     "data": {
      "text/plain": [
       "array([0., 1., 2., 3., 4., 5., 6., 7., 8., 9.])"
      ]
     },
     "execution_count": 33,
     "metadata": {},
     "output_type": "execute_result"
    }
   ],
   "source": [
    "numeric_strings = np.array(['1.25', '-9.6', '42'], dtype=np.string_)\n",
    "print(numeric_strings.astype(float))\n",
    "int_array = np.arange(10)\n",
    "calibers = np.array([.22, .270, .357, .380, .44, .50], dtype=np.float64)\n",
    "int_array.astype(calibers.dtype)"
   ]
  },
  {
   "cell_type": "markdown",
   "id": "4d77ef15-4cbd-44b9-922a-e533154b0721",
   "metadata": {},
   "source": [
    "# Operations between Arrays and Scalars"
   ]
  },
  {
   "cell_type": "code",
   "execution_count": 34,
   "id": "6b31799a-9491-4175-a25c-64ec0bc36e00",
   "metadata": {},
   "outputs": [
    {
     "name": "stdout",
     "output_type": "stream",
     "text": [
      "[[1. 2. 3.]\n",
      " [4. 5. 6.]]\n",
      "[[ 1.  4.  9.]\n",
      " [16. 25. 36.]]\n",
      "[[1. 2. 3.]\n",
      " [4. 5. 6.]]\n"
     ]
    }
   ],
   "source": [
    "arr = np.array([[1., 2., 3.], [4., 5., 6.]])\n",
    "print(arr)\n",
    "print(arr * arr)\n",
    "print(arr)"
   ]
  },
  {
   "cell_type": "code",
   "execution_count": 35,
   "id": "abcb00d1-7cd9-4002-856d-3b4a87005f30",
   "metadata": {},
   "outputs": [
    {
     "data": {
      "text/plain": [
       "array([[0., 0., 0.],\n",
       "       [0., 0., 0.]])"
      ]
     },
     "execution_count": 35,
     "metadata": {},
     "output_type": "execute_result"
    }
   ],
   "source": [
    "arr-arr"
   ]
  },
  {
   "cell_type": "markdown",
   "id": "6c0494c4-a88e-4d52-b062-9a156ceb1721",
   "metadata": {},
   "source": [
    "## Basic Indexing and Slicing"
   ]
  },
  {
   "cell_type": "code",
   "execution_count": 36,
   "id": "c951e332-7e58-40a2-9830-034129a05903",
   "metadata": {},
   "outputs": [
    {
     "name": "stdout",
     "output_type": "stream",
     "text": [
      "[0 1 2 3 4 5 6 7 8 9]\n",
      "5\n",
      "[5 6 7]\n"
     ]
    },
    {
     "data": {
      "text/plain": [
       "array([ 0,  1,  2,  3,  4, 12, 12, 12,  8,  9])"
      ]
     },
     "execution_count": 36,
     "metadata": {},
     "output_type": "execute_result"
    }
   ],
   "source": [
    "arr = np.arange(10)\n",
    "print(arr)\n",
    "print(arr[5])\n",
    "print(arr[5:8])\n",
    "arr[5:8] = 12\n",
    "arr\n"
   ]
  },
  {
   "cell_type": "code",
   "execution_count": 37,
   "id": "558c7020-0a64-408e-9dbe-8e4396be6f2c",
   "metadata": {},
   "outputs": [
    {
     "data": {
      "text/plain": [
       "array([ 0,  1,  2,  3,  4, 12, 12, 12,  8,  9])"
      ]
     },
     "execution_count": 37,
     "metadata": {},
     "output_type": "execute_result"
    }
   ],
   "source": [
    "arr"
   ]
  },
  {
   "cell_type": "code",
   "execution_count": 38,
   "id": "f2b874bb-7682-4d22-af4f-3993296549af",
   "metadata": {},
   "outputs": [],
   "source": [
    "arr_slice = arr[5:8]"
   ]
  },
  {
   "cell_type": "code",
   "execution_count": 39,
   "id": "75d4ff4c-b059-4f10-9f57-1dee79f6f361",
   "metadata": {},
   "outputs": [
    {
     "data": {
      "text/plain": [
       "array([12, 12, 12])"
      ]
     },
     "execution_count": 39,
     "metadata": {},
     "output_type": "execute_result"
    }
   ],
   "source": [
    "arr_slice"
   ]
  },
  {
   "cell_type": "code",
   "execution_count": 40,
   "id": "40a7b0ec-d929-4e34-8abe-e6daa656b4fb",
   "metadata": {},
   "outputs": [],
   "source": [
    " arr_slice[1] = 12345"
   ]
  },
  {
   "cell_type": "code",
   "execution_count": 41,
   "id": "da348e44-4163-4ac7-9797-baf12c0537e5",
   "metadata": {},
   "outputs": [
    {
     "data": {
      "text/plain": [
       "array([    0,     1,     2,     3,     4,    12, 12345,    12,     8,\n",
       "           9])"
      ]
     },
     "execution_count": 41,
     "metadata": {},
     "output_type": "execute_result"
    }
   ],
   "source": [
    "arr"
   ]
  },
  {
   "cell_type": "code",
   "execution_count": 42,
   "id": "7b561002-2f4c-4485-8709-e87a3815cac8",
   "metadata": {},
   "outputs": [
    {
     "data": {
      "text/plain": [
       "array([[[ 1,  2,  3],\n",
       "        [ 4,  5,  6]],\n",
       "\n",
       "       [[ 7,  8,  9],\n",
       "        [10, 11, 12]]])"
      ]
     },
     "execution_count": 42,
     "metadata": {},
     "output_type": "execute_result"
    }
   ],
   "source": [
    "arr3d = np.array([[[1, 2, 3], [4, 5, 6]], [[7, 8, 9], [10, 11, \n",
    "12]]])\n",
    "arr3d"
   ]
  },
  {
   "cell_type": "code",
   "execution_count": 43,
   "id": "9ecbe620-bfda-45f8-aecb-ed8e6543ee93",
   "metadata": {},
   "outputs": [
    {
     "data": {
      "text/plain": [
       "array([[1, 2, 3],\n",
       "       [4, 5, 6]])"
      ]
     },
     "execution_count": 43,
     "metadata": {},
     "output_type": "execute_result"
    }
   ],
   "source": [
    " arr3d[0]\n"
   ]
  },
  {
   "cell_type": "code",
   "execution_count": 44,
   "id": "bed0c93f-7846-4fda-89a2-a6a2af38bd6c",
   "metadata": {},
   "outputs": [
    {
     "data": {
      "text/plain": [
       "array([[[42, 42, 42],\n",
       "        [42, 42, 42]],\n",
       "\n",
       "       [[ 7,  8,  9],\n",
       "        [10, 11, 12]]])"
      ]
     },
     "execution_count": 44,
     "metadata": {},
     "output_type": "execute_result"
    }
   ],
   "source": [
    "old_values = arr3d[0].copy()\n",
    "arr3d[0] = 42\n",
    "arr3d"
   ]
  },
  {
   "cell_type": "markdown",
   "id": "fa095517-5a23-4578-8227-86fc5aa64aaf",
   "metadata": {},
   "source": [
    "# Indexing with slices"
   ]
  },
  {
   "cell_type": "code",
   "execution_count": 47,
   "id": "6a188db0-daa8-4b5f-bfd1-216f7e923c90",
   "metadata": {},
   "outputs": [
    {
     "data": {
      "text/plain": [
       "array([ 0,  1,  2,  3,  4, 64, 64, 64,  8,  9])"
      ]
     },
     "execution_count": 47,
     "metadata": {},
     "output_type": "execute_result"
    }
   ],
   "source": [
    "r= np.array([0,1,2,3,4,64,64,64,8,9])\n",
    "r"
   ]
  },
  {
   "cell_type": "code",
   "execution_count": 48,
   "id": "d3fdc785-c485-4abc-afa8-888fbf2aed3f",
   "metadata": {},
   "outputs": [
    {
     "data": {
      "text/plain": [
       "array([ 1,  2,  3,  4, 64])"
      ]
     },
     "execution_count": 48,
     "metadata": {},
     "output_type": "execute_result"
    }
   ],
   "source": [
    "r[1:6]"
   ]
  },
  {
   "cell_type": "markdown",
   "id": "d95ef438-2b4d-474b-9e59-b387f52b4b78",
   "metadata": {},
   "source": [
    "### Higher dimensional objects give more options as one or more axes can be sliced and also integers can be mixed. Consider the 2D array above, arr2d. Slicing this array is a bit different:\n"
   ]
  },
  {
   "cell_type": "code",
   "execution_count": 55,
   "id": "3911e859-8c7a-482f-accf-3d71403a5d45",
   "metadata": {},
   "outputs": [
    {
     "data": {
      "text/plain": [
       "array([[1, 2, 3],\n",
       "       [4, 5, 6],\n",
       "       [7, 8, 9]])"
      ]
     },
     "execution_count": 55,
     "metadata": {},
     "output_type": "execute_result"
    }
   ],
   "source": [
    "arr2d = np.array([[1, 2, 3], [4, 5, 6], [7, 8, 9]])\n",
    "arr2d"
   ]
  },
  {
   "cell_type": "code",
   "execution_count": 56,
   "id": "0ee6e1e1-f8fa-4b0a-8190-238177de9c98",
   "metadata": {},
   "outputs": [
    {
     "data": {
      "text/plain": [
       "array([[1, 2, 3],\n",
       "       [4, 5, 6]])"
      ]
     },
     "execution_count": 56,
     "metadata": {},
     "output_type": "execute_result"
    }
   ],
   "source": [
    "arr2d[:2]"
   ]
  },
  {
   "cell_type": "code",
   "execution_count": 63,
   "id": "d9a66d51-0f7f-4b85-b3da-3cf1f1f8877b",
   "metadata": {},
   "outputs": [
    {
     "data": {
      "text/plain": [
       "array([[2, 3],\n",
       "       [5, 6]])"
      ]
     },
     "execution_count": 63,
     "metadata": {},
     "output_type": "execute_result"
    }
   ],
   "source": [
    "arr2d[:2 , 1:]"
   ]
  },
  {
   "cell_type": "code",
   "execution_count": 60,
   "id": "9bc4834c-8c75-4693-8805-13616f701991",
   "metadata": {},
   "outputs": [
    {
     "data": {
      "text/plain": [
       "array([4, 5])"
      ]
     },
     "execution_count": 60,
     "metadata": {},
     "output_type": "execute_result"
    }
   ],
   "source": [
    " arr2d[1, :2]"
   ]
  },
  {
   "cell_type": "code",
   "execution_count": 61,
   "id": "153b23f7-7a91-4ff6-a831-63f4e2225a54",
   "metadata": {},
   "outputs": [
    {
     "data": {
      "text/plain": [
       "array([7])"
      ]
     },
     "execution_count": 61,
     "metadata": {},
     "output_type": "execute_result"
    }
   ],
   "source": [
    " arr2d[2, :1]\n"
   ]
  },
  {
   "cell_type": "code",
   "execution_count": 64,
   "id": "52fd3a56-0530-4e8b-9fdd-47f29fc8a204",
   "metadata": {},
   "outputs": [
    {
     "data": {
      "text/plain": [
       "array([[1],\n",
       "       [4],\n",
       "       [7]])"
      ]
     },
     "execution_count": 64,
     "metadata": {},
     "output_type": "execute_result"
    }
   ],
   "source": [
    "arr2d[:, :1]"
   ]
  },
  {
   "cell_type": "code",
   "execution_count": 66,
   "id": "4af815a8-f10e-4335-bbd7-5fb0805a5dc2",
   "metadata": {},
   "outputs": [],
   "source": [
    "arr2d[:2, 1:] = 0"
   ]
  },
  {
   "cell_type": "markdown",
   "id": "e1efad45-b1f1-46e2-8bb5-85dffdf4f2ae",
   "metadata": {},
   "source": [
    "# BROADCASTING"
   ]
  },
  {
   "cell_type": "code",
   "execution_count": 67,
   "id": "a99eafef-4f3b-488f-b854-35e88aff8102",
   "metadata": {},
   "outputs": [
    {
     "data": {
      "text/plain": [
       "array([0, 1, 2, 3, 4])"
      ]
     },
     "execution_count": 67,
     "metadata": {},
     "output_type": "execute_result"
    }
   ],
   "source": [
    "w = np.arange(5)\n",
    "w"
   ]
  },
  {
   "cell_type": "code",
   "execution_count": 68,
   "id": "f02857ce-2ecc-4c9f-8604-509d24ae3cd0",
   "metadata": {},
   "outputs": [
    {
     "data": {
      "text/plain": [
       "array([ 0,  4,  8, 12, 16])"
      ]
     },
     "execution_count": 68,
     "metadata": {},
     "output_type": "execute_result"
    }
   ],
   "source": [
    "w*4"
   ]
  },
  {
   "cell_type": "code",
   "execution_count": 69,
   "id": "443ea761-3eb0-420f-9e8a-40687d6c0145",
   "metadata": {},
   "outputs": [
    {
     "data": {
      "text/plain": [
       "array([[-0.31674131, -1.55140933, -0.25306875],\n",
       "       [ 0.78221694,  1.02811293,  0.0328281 ],\n",
       "       [ 1.0570636 ,  0.15180299, -1.77979705],\n",
       "       [-1.68949164, -0.5633743 , -2.01148083]])"
      ]
     },
     "execution_count": 69,
     "metadata": {},
     "output_type": "execute_result"
    }
   ],
   "source": [
    "arr = np.random.randn(4, 3)\n",
    "arr"
   ]
  },
  {
   "cell_type": "code",
   "execution_count": 70,
   "id": "8c269018-7de2-4ce4-a288-1124ecde7501",
   "metadata": {},
   "outputs": [
    {
     "data": {
      "text/plain": [
       "array([-0.0417381 , -0.23371693, -1.00287963])"
      ]
     },
     "execution_count": 70,
     "metadata": {},
     "output_type": "execute_result"
    }
   ],
   "source": [
    " arr.mean(0)"
   ]
  },
  {
   "cell_type": "code",
   "execution_count": 71,
   "id": "98195b07-32bb-405b-9b48-24ca9b9f63fc",
   "metadata": {},
   "outputs": [
    {
     "data": {
      "text/plain": [
       "array([[-0.27500321, -1.3176924 ,  0.74981088],\n",
       "       [ 0.82395504,  1.26182986,  1.03570773],\n",
       "       [ 1.0988017 ,  0.38551992, -0.77691741],\n",
       "       [-1.64775354, -0.32965738, -1.00860119]])"
      ]
     },
     "execution_count": 71,
     "metadata": {},
     "output_type": "execute_result"
    }
   ],
   "source": [
    "demeaned = arr - arr.mean(0)\n",
    "demeaned "
   ]
  },
  {
   "cell_type": "code",
   "execution_count": 72,
   "id": "c3232380-e937-4444-a24c-d6d1c7834b55",
   "metadata": {},
   "outputs": [
    {
     "data": {
      "text/plain": [
       "array([5.55111512e-17, 4.16333634e-17, 5.55111512e-17])"
      ]
     },
     "execution_count": 72,
     "metadata": {},
     "output_type": "execute_result"
    }
   ],
   "source": [
    " demeaned.mean(0)"
   ]
  },
  {
   "cell_type": "markdown",
   "id": "9ac1be6f-23a2-490b-8658-9a9a9cb24f48",
   "metadata": {},
   "source": [
    "# Setting Array Values by Broadcasting\n"
   ]
  },
  {
   "cell_type": "code",
   "execution_count": 73,
   "id": "604fdfd1-0425-42b7-8341-66b85a56f05d",
   "metadata": {},
   "outputs": [
    {
     "data": {
      "text/plain": [
       "array([[0., 0., 0.],\n",
       "       [0., 0., 0.],\n",
       "       [0., 0., 0.],\n",
       "       [0., 0., 0.]])"
      ]
     },
     "execution_count": 73,
     "metadata": {},
     "output_type": "execute_result"
    }
   ],
   "source": [
    "arr = np.zeros((4, 3))\n",
    "arr"
   ]
  },
  {
   "cell_type": "code",
   "execution_count": 76,
   "id": "3ed5f2b8-d241-4c9d-b26f-0fb08bdfdef6",
   "metadata": {},
   "outputs": [
    {
     "data": {
      "text/plain": [
       "array([[5., 5., 5.],\n",
       "       [5., 5., 5.],\n",
       "       [5., 5., 5.],\n",
       "       [5., 5., 5.]])"
      ]
     },
     "execution_count": 76,
     "metadata": {},
     "output_type": "execute_result"
    }
   ],
   "source": [
    "arr[:] = 5 \n",
    "arr"
   ]
  },
  {
   "cell_type": "code",
   "execution_count": 77,
   "id": "6a85e58c-c732-4a25-85f9-adc4f4ff2c4b",
   "metadata": {},
   "outputs": [
    {
     "data": {
      "text/plain": [
       "array([[ 1.28,  1.28,  1.28],\n",
       "       [-0.42, -0.42, -0.42],\n",
       "       [ 0.44,  0.44,  0.44],\n",
       "       [ 1.6 ,  1.6 ,  1.6 ]])"
      ]
     },
     "execution_count": 77,
     "metadata": {},
     "output_type": "execute_result"
    }
   ],
   "source": [
    "col = np.array([1.28, -0.42, 0.44, 1.6])\n",
    "arr[:] = col[:, np.newaxis] \n",
    "arr"
   ]
  },
  {
   "cell_type": "code",
   "execution_count": 78,
   "id": "e38f1f29-7db4-4739-95e4-8a8fe4614fbc",
   "metadata": {},
   "outputs": [
    {
     "data": {
      "text/plain": [
       "array([[-1.37 , -1.37 , -1.37 ],\n",
       "       [ 0.509,  0.509,  0.509],\n",
       "       [ 0.44 ,  0.44 ,  0.44 ],\n",
       "       [ 1.6  ,  1.6  ,  1.6  ]])"
      ]
     },
     "execution_count": 78,
     "metadata": {},
     "output_type": "execute_result"
    }
   ],
   "source": [
    "arr[:2] = [[-1.37], [0.509]] \n",
    "arr"
   ]
  },
  {
   "cell_type": "markdown",
   "id": "dfc0f984-9c12-4aaa-9747-d0cba837f2b3",
   "metadata": {},
   "source": [
    "# Boolean Indexing"
   ]
  },
  {
   "cell_type": "code",
   "execution_count": 79,
   "id": "b7d8a881-efc7-46f0-83c2-f9516d483caf",
   "metadata": {},
   "outputs": [
    {
     "data": {
      "text/plain": [
       "array(['Bob', 'Joe', 'Will', 'Bob', 'Will', 'Joe', 'Joe'], dtype='<U4')"
      ]
     },
     "execution_count": 79,
     "metadata": {},
     "output_type": "execute_result"
    }
   ],
   "source": [
    "names = np.array(['Bob', 'Joe', 'Will', 'Bob', 'Will', 'Joe', \n",
    "'Joe'])\n",
    "names"
   ]
  },
  {
   "cell_type": "code",
   "execution_count": 80,
   "id": "cc06b7c6-9d97-4eef-aa27-d1b902a5ff16",
   "metadata": {},
   "outputs": [
    {
     "data": {
      "text/plain": [
       "array([[ 1.50408051e+00,  9.62538827e-01, -9.68314855e-01,\n",
       "        -3.82285822e-01],\n",
       "       [-1.58100177e-01,  2.51850376e-01, -6.13279774e-01,\n",
       "        -1.58432387e+00],\n",
       "       [ 6.11326212e-01, -2.51068828e+00, -1.51057456e+00,\n",
       "         4.53057350e-01],\n",
       "       [-5.00265634e-01, -1.38378416e-01, -3.21998493e-01,\n",
       "        -1.43599957e-01],\n",
       "       [ 6.27746532e-04, -2.71728206e-02, -1.02827154e+00,\n",
       "        -3.50335906e-01],\n",
       "       [ 3.52062063e-01, -1.76159171e+00,  1.85921998e-03,\n",
       "         1.38992412e+00],\n",
       "       [ 5.13989437e-01, -3.71683998e-01, -1.42375092e+00,\n",
       "        -4.70270654e-01]])"
      ]
     },
     "execution_count": 80,
     "metadata": {},
     "output_type": "execute_result"
    }
   ],
   "source": [
    " data = np.random.randn(7, 4)\n",
    "data"
   ]
  },
  {
   "cell_type": "code",
   "execution_count": 83,
   "id": "c9cf934b-d137-4194-88e4-a48e8afc5b20",
   "metadata": {},
   "outputs": [
    {
     "data": {
      "text/plain": [
       "array(['Bob', 'Joe', 'Will', 'Bob', 'Will', 'Joe', 'Joe'], dtype='<U4')"
      ]
     },
     "execution_count": 83,
     "metadata": {},
     "output_type": "execute_result"
    }
   ],
   "source": [
    "names"
   ]
  },
  {
   "cell_type": "code",
   "execution_count": 84,
   "id": "815587bb-8b6c-4168-aad6-ef5cfdeb2533",
   "metadata": {},
   "outputs": [
    {
     "data": {
      "text/plain": [
       "array([[ 1.50408051e+00,  9.62538827e-01, -9.68314855e-01,\n",
       "        -3.82285822e-01],\n",
       "       [-1.58100177e-01,  2.51850376e-01, -6.13279774e-01,\n",
       "        -1.58432387e+00],\n",
       "       [ 6.11326212e-01, -2.51068828e+00, -1.51057456e+00,\n",
       "         4.53057350e-01],\n",
       "       [-5.00265634e-01, -1.38378416e-01, -3.21998493e-01,\n",
       "        -1.43599957e-01],\n",
       "       [ 6.27746532e-04, -2.71728206e-02, -1.02827154e+00,\n",
       "        -3.50335906e-01],\n",
       "       [ 3.52062063e-01, -1.76159171e+00,  1.85921998e-03,\n",
       "         1.38992412e+00],\n",
       "       [ 5.13989437e-01, -3.71683998e-01, -1.42375092e+00,\n",
       "        -4.70270654e-01]])"
      ]
     },
     "execution_count": 84,
     "metadata": {},
     "output_type": "execute_result"
    }
   ],
   "source": [
    "data\n"
   ]
  },
  {
   "cell_type": "code",
   "execution_count": 85,
   "id": "1d6906ed-ec3b-47a0-8d11-43b2bc20f6b6",
   "metadata": {},
   "outputs": [
    {
     "data": {
      "text/plain": [
       "array([ True, False, False,  True, False, False, False])"
      ]
     },
     "execution_count": 85,
     "metadata": {},
     "output_type": "execute_result"
    }
   ],
   "source": [
    "names == 'Bob'"
   ]
  },
  {
   "cell_type": "code",
   "execution_count": 86,
   "id": "50fd515e-6913-467b-9f55-be152b70d4a0",
   "metadata": {},
   "outputs": [
    {
     "data": {
      "text/plain": [
       "array([[ 1.50408051,  0.96253883, -0.96831485, -0.38228582],\n",
       "       [-0.50026563, -0.13837842, -0.32199849, -0.14359996]])"
      ]
     },
     "execution_count": 86,
     "metadata": {},
     "output_type": "execute_result"
    }
   ],
   "source": [
    "data[names == 'Bob']\n"
   ]
  },
  {
   "cell_type": "code",
   "execution_count": 87,
   "id": "1ee99385-e865-4bfc-aa82-da99d1cb4122",
   "metadata": {},
   "outputs": [
    {
     "data": {
      "text/plain": [
       "array([[-0.96831485, -0.38228582],\n",
       "       [-0.32199849, -0.14359996]])"
      ]
     },
     "execution_count": 87,
     "metadata": {},
     "output_type": "execute_result"
    }
   ],
   "source": [
    "data[names == 'Bob', 2:]\n"
   ]
  },
  {
   "cell_type": "code",
   "execution_count": 88,
   "id": "fd4389b0-c289-4c6d-95f4-0078ef142357",
   "metadata": {},
   "outputs": [
    {
     "data": {
      "text/plain": [
       "array([-0.38228582, -0.14359996])"
      ]
     },
     "execution_count": 88,
     "metadata": {},
     "output_type": "execute_result"
    }
   ],
   "source": [
    "data[names == 'Bob', 3]"
   ]
  },
  {
   "cell_type": "code",
   "execution_count": 89,
   "id": "83f78ccc-3af0-45bf-8e6e-16b8376eb5b1",
   "metadata": {},
   "outputs": [
    {
     "data": {
      "text/plain": [
       "array([False,  True,  True, False,  True,  True,  True])"
      ]
     },
     "execution_count": 89,
     "metadata": {},
     "output_type": "execute_result"
    }
   ],
   "source": [
    "names != 'Bob'"
   ]
  },
  {
   "cell_type": "code",
   "execution_count": 90,
   "id": "4a72cc97-5f67-4585-a73a-9c93793ddfb5",
   "metadata": {},
   "outputs": [
    {
     "data": {
      "text/plain": [
       "array([[-1.58100177e-01,  2.51850376e-01, -6.13279774e-01,\n",
       "        -1.58432387e+00],\n",
       "       [ 6.11326212e-01, -2.51068828e+00, -1.51057456e+00,\n",
       "         4.53057350e-01],\n",
       "       [ 6.27746532e-04, -2.71728206e-02, -1.02827154e+00,\n",
       "        -3.50335906e-01],\n",
       "       [ 3.52062063e-01, -1.76159171e+00,  1.85921998e-03,\n",
       "         1.38992412e+00],\n",
       "       [ 5.13989437e-01, -3.71683998e-01, -1.42375092e+00,\n",
       "        -4.70270654e-01]])"
      ]
     },
     "execution_count": 90,
     "metadata": {},
     "output_type": "execute_result"
    }
   ],
   "source": [
    "data[~(names == 'Bob')]"
   ]
  },
  {
   "cell_type": "code",
   "execution_count": 91,
   "id": "beb0fd83-6ebf-4d2d-870a-f68e7a11241a",
   "metadata": {},
   "outputs": [
    {
     "data": {
      "text/plain": [
       "array([ True, False,  True,  True,  True, False, False])"
      ]
     },
     "execution_count": 91,
     "metadata": {},
     "output_type": "execute_result"
    }
   ],
   "source": [
    "mask = (names == 'Bob') | (names == 'Will')\n",
    "mask\n"
   ]
  },
  {
   "cell_type": "code",
   "execution_count": 92,
   "id": "fd317793-9195-4326-b9e8-1c9051cc06de",
   "metadata": {},
   "outputs": [
    {
     "data": {
      "text/plain": [
       "array([[ 1.50408051e+00,  9.62538827e-01, -9.68314855e-01,\n",
       "        -3.82285822e-01],\n",
       "       [ 6.11326212e-01, -2.51068828e+00, -1.51057456e+00,\n",
       "         4.53057350e-01],\n",
       "       [-5.00265634e-01, -1.38378416e-01, -3.21998493e-01,\n",
       "        -1.43599957e-01],\n",
       "       [ 6.27746532e-04, -2.71728206e-02, -1.02827154e+00,\n",
       "        -3.50335906e-01]])"
      ]
     },
     "execution_count": 92,
     "metadata": {},
     "output_type": "execute_result"
    }
   ],
   "source": [
    "data[mask]"
   ]
  },
  {
   "cell_type": "code",
   "execution_count": 93,
   "id": "54b96f7a-19f7-475c-a93f-7efafb1ccfc6",
   "metadata": {},
   "outputs": [
    {
     "data": {
      "text/plain": [
       "array([[1.50408051e+00, 9.62538827e-01, 0.00000000e+00, 0.00000000e+00],\n",
       "       [0.00000000e+00, 2.51850376e-01, 0.00000000e+00, 0.00000000e+00],\n",
       "       [6.11326212e-01, 0.00000000e+00, 0.00000000e+00, 4.53057350e-01],\n",
       "       [0.00000000e+00, 0.00000000e+00, 0.00000000e+00, 0.00000000e+00],\n",
       "       [6.27746532e-04, 0.00000000e+00, 0.00000000e+00, 0.00000000e+00],\n",
       "       [3.52062063e-01, 0.00000000e+00, 1.85921998e-03, 1.38992412e+00],\n",
       "       [5.13989437e-01, 0.00000000e+00, 0.00000000e+00, 0.00000000e+00]])"
      ]
     },
     "execution_count": 93,
     "metadata": {},
     "output_type": "execute_result"
    }
   ],
   "source": [
    "data[data < 0] = 0\n",
    "data\n"
   ]
  },
  {
   "cell_type": "code",
   "execution_count": 94,
   "id": "114c92d1-c00f-479a-ab9a-333f2e6815ed",
   "metadata": {},
   "outputs": [
    {
     "data": {
      "text/plain": [
       "array([[7.00000000e+00, 7.00000000e+00, 7.00000000e+00, 7.00000000e+00],\n",
       "       [0.00000000e+00, 2.51850376e-01, 0.00000000e+00, 0.00000000e+00],\n",
       "       [7.00000000e+00, 7.00000000e+00, 7.00000000e+00, 7.00000000e+00],\n",
       "       [7.00000000e+00, 7.00000000e+00, 7.00000000e+00, 7.00000000e+00],\n",
       "       [7.00000000e+00, 7.00000000e+00, 7.00000000e+00, 7.00000000e+00],\n",
       "       [3.52062063e-01, 0.00000000e+00, 1.85921998e-03, 1.38992412e+00],\n",
       "       [5.13989437e-01, 0.00000000e+00, 0.00000000e+00, 0.00000000e+00]])"
      ]
     },
     "execution_count": 94,
     "metadata": {},
     "output_type": "execute_result"
    }
   ],
   "source": [
    "data[names != 'Joe'] = 7\n",
    "data"
   ]
  },
  {
   "cell_type": "markdown",
   "id": "6911bb8d-2843-46bb-b3c0-d4e70a9de7a3",
   "metadata": {},
   "source": [
    "# Transposing Arrays and Swapping Axes"
   ]
  },
  {
   "cell_type": "code",
   "execution_count": 96,
   "id": "b2810ffe-b6f0-4a51-a820-3ac0c5aac924",
   "metadata": {},
   "outputs": [
    {
     "data": {
      "text/plain": [
       "array([[ 0,  1,  2,  3,  4],\n",
       "       [ 5,  6,  7,  8,  9],\n",
       "       [10, 11, 12, 13, 14]])"
      ]
     },
     "execution_count": 96,
     "metadata": {},
     "output_type": "execute_result"
    }
   ],
   "source": [
    "arr = np.arange(15).reshape((3, 5))\n",
    "arr"
   ]
  },
  {
   "cell_type": "code",
   "execution_count": 98,
   "id": "d79e2923-8843-49e9-8dd0-d8f209c662e3",
   "metadata": {},
   "outputs": [
    {
     "data": {
      "text/plain": [
       "array([[ 0,  5, 10],\n",
       "       [ 1,  6, 11],\n",
       "       [ 2,  7, 12],\n",
       "       [ 3,  8, 13],\n",
       "       [ 4,  9, 14]])"
      ]
     },
     "execution_count": 98,
     "metadata": {},
     "output_type": "execute_result"
    }
   ],
   "source": [
    "arr.T"
   ]
  },
  {
   "cell_type": "markdown",
   "id": "c48aa19b-36a4-4fd9-9145-a2ea5cf2254a",
   "metadata": {},
   "source": [
    "# Concatenating and Splitting Arrays"
   ]
  },
  {
   "cell_type": "code",
   "execution_count": 99,
   "id": "0225a1a2-74da-4a9a-8b13-925c6b948e7a",
   "metadata": {},
   "outputs": [
    {
     "data": {
      "text/plain": [
       "array([[ 1,  2,  3],\n",
       "       [ 4,  5,  6],\n",
       "       [ 7,  8,  9],\n",
       "       [10, 11, 12]])"
      ]
     },
     "execution_count": 99,
     "metadata": {},
     "output_type": "execute_result"
    }
   ],
   "source": [
    "arr1 = np.array([[1, 2, 3], [4, 5, 6]])\n",
    "arr2 = np.array([[7, 8, 9], [10, 11, 12]])\n",
    "np.concatenate([arr1, arr2], axis=0)"
   ]
  },
  {
   "cell_type": "code",
   "execution_count": 100,
   "id": "9c05a1ac-8964-478a-988b-30664743f0a9",
   "metadata": {},
   "outputs": [
    {
     "data": {
      "text/plain": [
       "array([[ 1,  2,  3,  7,  8,  9],\n",
       "       [ 4,  5,  6, 10, 11, 12]])"
      ]
     },
     "execution_count": 100,
     "metadata": {},
     "output_type": "execute_result"
    }
   ],
   "source": [
    "np.concatenate([arr1, arr2], axis=1)"
   ]
  },
  {
   "cell_type": "code",
   "execution_count": null,
   "id": "9968fa71-5af6-4714-8cf2-b2f76d9c9397",
   "metadata": {},
   "outputs": [],
   "source": []
  }
 ],
 "metadata": {
  "kernelspec": {
   "display_name": "Python 3 (ipykernel)",
   "language": "python",
   "name": "python3"
  },
  "language_info": {
   "codemirror_mode": {
    "name": "ipython",
    "version": 3
   },
   "file_extension": ".py",
   "mimetype": "text/x-python",
   "name": "python",
   "nbconvert_exporter": "python",
   "pygments_lexer": "ipython3",
   "version": "3.12.7"
  }
 },
 "nbformat": 4,
 "nbformat_minor": 5
}
